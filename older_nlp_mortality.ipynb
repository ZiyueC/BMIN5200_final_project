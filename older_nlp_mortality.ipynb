{
 "cells": [
  {
   "cell_type": "markdown",
   "metadata": {
    "id": "G-5U3a7UgbQh"
   },
   "source": [
    "# **Part1. Text modeling using Berts**"
   ]
  },
  {
   "cell_type": "markdown",
   "metadata": {
    "id": "-yqf2Z1Lgr6W"
   },
   "source": [
    "## **1. Setting GPU, load data and bert embedding**"
   ]
  },
  {
   "cell_type": "markdown",
   "metadata": {
    "id": "caMLMx36nen9"
   },
   "source": [
    "1.   parameters setting and GPU path sets\n",
    "2.   load developement and temporal set\n",
    "3.   tokenizer - embedding\n",
    "4.   dataloader for training, val, test and temp \n",
    "\n"
   ]
  },
  {
   "cell_type": "code",
   "execution_count": null,
   "metadata": {
    "colab": {
     "base_uri": "https://localhost:8080/"
    },
    "executionInfo": {
     "elapsed": 424,
     "status": "ok",
     "timestamp": 1653794967818,
     "user": {
      "displayName": "Xiaoli Liu",
      "userId": "11403986246239244527"
     },
     "user_tz": -480
    },
    "id": "YIbjntk-TPdt",
    "outputId": "5374a468-6421-4824-b995-a7815d4fbcfb"
   },
   "outputs": [
    {
     "name": "stdout",
     "output_type": "stream",
     "text": [
      "There are 1 GPU(s) available.\n",
      "We will use the GPU: Tesla P100-PCIE-16GB\n"
     ]
    }
   ],
   "source": [
    "import torch\n",
    "\n",
    "# If there's a GPU available...\n",
    "if torch.cuda.is_available():    \n",
    "\n",
    "    # Tell PyTorch to use the GPU.    \n",
    "    device = torch.device(\"cuda\")\n",
    "\n",
    "    print('There are %d GPU(s) available.' % torch.cuda.device_count())\n",
    "\n",
    "    print('We will use the GPU:', torch.cuda.get_device_name(0))\n",
    "\n",
    "# If not...\n",
    "else:\n",
    "    print('No GPU available, using the CPU instead.')\n",
    "    device = torch.device(\"cpu\")"
   ]
  },
  {
   "cell_type": "code",
   "execution_count": null,
   "metadata": {
    "colab": {
     "base_uri": "https://localhost:8080/"
    },
    "executionInfo": {
     "elapsed": 3742,
     "status": "ok",
     "timestamp": 1653794971558,
     "user": {
      "displayName": "Xiaoli Liu",
      "userId": "11403986246239244527"
     },
     "user_tz": -480
    },
    "id": "1bRA-IlbT3xG",
    "outputId": "44f49ec7-ddd1-451a-e267-37af0d99315b"
   },
   "outputs": [
    {
     "name": "stdout",
     "output_type": "stream",
     "text": [
      "Drive already mounted at /content/drive; to attempt to forcibly remount, call drive.mount(\"/content/drive\", force_remount=True).\n"
     ]
    }
   ],
   "source": [
    "from google.colab import drive\n",
    "drive.mount('/content/drive')\n",
    "\n",
    "path = '/content/drive/My Drive/Phd_thesis_xiaoli/project/older_nlp/'\n",
    "\n",
    "import sys\n",
    "import os\n",
    "\n",
    "py_file_location = path\n",
    "sys.path.append(os.path.abspath(py_file_location))"
   ]
  },
  {
   "cell_type": "code",
   "execution_count": null,
   "metadata": {
    "colab": {
     "base_uri": "https://localhost:8080/"
    },
    "executionInfo": {
     "elapsed": 8,
     "status": "ok",
     "timestamp": 1653794971559,
     "user": {
      "displayName": "Xiaoli Liu",
      "userId": "11403986246239244527"
     },
     "user_tz": -480
    },
    "id": "7DAE0PDXhKu5",
    "outputId": "904102e9-37f9-48c2-c6bf-ffeabdde2d30"
   },
   "outputs": [],
   "source": [
    "\n",
    "\n",
    "para_all = {'bert': 'clinicalbert', # clinical_longformer, clinical_bigbird, bert\n",
    "       'seq_len': 120, # 60, 120, 240\n",
    "       'token_max_length': 512, # 256, 512\n",
    "       'batch_size': 12, # 12, 16 \n",
    "       'epochs': 2, # 1, 2, 3, 4\n",
    "       'learning_rate': 1e-5} # 1e-5, 2e-5, 2e-5\n",
    "\n",
    "\n",
    "save_name = 'max_len-'+str(para_all['token_max_length'])+'_bs-'\\\n",
    "+str(para_all['batch_size'])+'_epoch-'+str(para_all['epochs'])+'_lr-'+str(para_all['learning_rate'])\n",
    "\n",
    "\n",
    "result_path = path + 'result/' + para_all['bert'] + '/seq_' + str(para_all['seq_len']) + '/' + save_name + '/'\n",
    "if not os.path.exists(result_path):\n",
    "    os.makedirs(result_path)\n",
    "\n",
    "#print('para_all:', para_all)\n",
    "#print('save_name:', save_name)\n",
    "#print('result_path:', result_path)"
   ]
  },
  {
   "cell_type": "code",
   "execution_count": null,
   "metadata": {
    "colab": {
     "base_uri": "https://localhost:8080/"
    },
    "executionInfo": {
     "elapsed": 2289,
     "status": "ok",
     "timestamp": 1653794973845,
     "user": {
      "displayName": "Xiaoli Liu",
      "userId": "11403986246239244527"
     },
     "user_tz": -480
    },
    "id": "X4fY12kKUvm4",
    "outputId": "2182ca23-9246-4796-f942-448eead79b67"
   },
   "outputs": [
    {
     "name": "stdout",
     "output_type": "stream",
     "text": [
      "Looking in indexes: https://pypi.org/simple, https://us-python.pkg.dev/colab-wheels/public/simple/\n",
      "Requirement already satisfied: transformers in /usr/local/lib/python3.7/dist-packages (4.19.2)\n",
      "Requirement already satisfied: tqdm>=4.27 in /usr/local/lib/python3.7/dist-packages (from transformers) (4.64.0)\n",
      "Requirement already satisfied: tokenizers!=0.11.3,<0.13,>=0.11.1 in /usr/local/lib/python3.7/dist-packages (from transformers) (0.12.1)\n",
      "Requirement already satisfied: importlib-metadata in /usr/local/lib/python3.7/dist-packages (from transformers) (4.11.3)\n",
      "Requirement already satisfied: huggingface-hub<1.0,>=0.1.0 in /usr/local/lib/python3.7/dist-packages (from transformers) (0.7.0)\n",
      "Requirement already satisfied: numpy>=1.17 in /usr/local/lib/python3.7/dist-packages (from transformers) (1.21.6)\n",
      "Requirement already satisfied: requests in /usr/local/lib/python3.7/dist-packages (from transformers) (2.23.0)\n",
      "Requirement already satisfied: regex!=2019.12.17 in /usr/local/lib/python3.7/dist-packages (from transformers) (2019.12.20)\n",
      "Requirement already satisfied: packaging>=20.0 in /usr/local/lib/python3.7/dist-packages (from transformers) (21.3)\n",
      "Requirement already satisfied: pyyaml>=5.1 in /usr/local/lib/python3.7/dist-packages (from transformers) (6.0)\n",
      "Requirement already satisfied: filelock in /usr/local/lib/python3.7/dist-packages (from transformers) (3.7.0)\n",
      "Requirement already satisfied: typing-extensions>=3.7.4.3 in /usr/local/lib/python3.7/dist-packages (from huggingface-hub<1.0,>=0.1.0->transformers) (4.2.0)\n",
      "Requirement already satisfied: pyparsing!=3.0.5,>=2.0.2 in /usr/local/lib/python3.7/dist-packages (from packaging>=20.0->transformers) (3.0.9)\n",
      "Requirement already satisfied: zipp>=0.5 in /usr/local/lib/python3.7/dist-packages (from importlib-metadata->transformers) (3.8.0)\n",
      "Requirement already satisfied: certifi>=2017.4.17 in /usr/local/lib/python3.7/dist-packages (from requests->transformers) (2022.5.18.1)\n",
      "Requirement already satisfied: urllib3!=1.25.0,!=1.25.1,<1.26,>=1.21.1 in /usr/local/lib/python3.7/dist-packages (from requests->transformers) (1.24.3)\n",
      "Requirement already satisfied: chardet<4,>=3.0.2 in /usr/local/lib/python3.7/dist-packages (from requests->transformers) (3.0.4)\n",
      "Requirement already satisfied: idna<3,>=2.5 in /usr/local/lib/python3.7/dist-packages (from requests->transformers) (2.10)\n"
     ]
    }
   ],
   "source": [
    "!pip install transformers"
   ]
  },
  {
   "cell_type": "code",
   "execution_count": null,
   "metadata": {
    "colab": {
     "base_uri": "https://localhost:8080/"
    },
    "executionInfo": {
     "elapsed": 1605,
     "status": "ok",
     "timestamp": 1653794975446,
     "user": {
      "displayName": "Xiaoli Liu",
      "userId": "11403986246239244527"
     },
     "user_tz": -480
    },
    "id": "0jjTyF1UU3E2",
    "outputId": "854ca52c-c745-4449-faf0-96c20e24abe6"
   },
   "outputs": [
    {
     "name": "stdout",
     "output_type": "stream",
     "text": [
      "Number of development sentences: 91,761\n",
      "\n",
      "Number of temporal sentences: 10,625\n",
      "\n",
      "Number of total sentences: 102,386\n",
      "\n",
      "Number of total patients: 29,474\n",
      "\n"
     ]
    }
   ],
   "source": [
    "import pandas as pd\n",
    "\n",
    "\n",
    "df, df_development, df_temporal, id_source_info = pd.DataFrame(), pd.DataFrame(), pd.DataFrame(), pd.DataFrame\n",
    "df_development = pd.read_csv(path+'data/seq_'+str(para_all['seq_len'])+'/development_text_older.csv')\n",
    "df_temporal = pd.read_csv(path+'data/seq_'+str(para_all['seq_len'])+'/temporal_text_older.csv')\n",
    "\n",
    "df = df_development.append(df_temporal).reset_index(drop=True)\n",
    "id_source_info = pd.DataFrame({'id':list(df_development['id'].unique()), 'source':['development'] * len(list(df_development['id'].unique()))})\n",
    "id_source_info = id_source_info.append(\\\n",
    "            pd.DataFrame({'id':list(df_temporal['id'].unique()), 'source':['temporal'] * len(list(df_temporal['id'].unique()))})\n",
    "            )\n",
    "id_source_info.reset_index(drop=True, inplace=True)\n",
    "\n",
    "print('Number of development sentences: {:,}\\n'.format(df_development.shape[0]))\n",
    "print('Number of temporal sentences: {:,}\\n'.format(df_temporal.shape[0]))\n",
    "print('Number of total sentences: {:,}\\n'.format(df.shape[0]))\n",
    "print('Number of total patients: {:,}\\n'.format(id_source_info.shape[0]))\n",
    "\n",
    "df.sample(5)\n",
    "\n",
    "del df_development, df_temporal"
   ]
  },
  {
   "cell_type": "code",
   "execution_count": 6,
   "metadata": {
    "colab": {
     "base_uri": "https://localhost:8080/"
    },
    "executionInfo": {
     "elapsed": 10,
     "status": "ok",
     "timestamp": 1653794975447,
     "user": {
      "displayName": "Xiaoli Liu",
      "userId": "11403986246239244527"
     },
     "user_tz": -480
    },
    "id": "xbMMKRkt_wuq",
    "outputId": "37c7dade-e83f-448a-91c1-834246d9a0bd"
   },
   "outputs": [
    {
     "data": {
      "text/plain": [
       "(102386, 3)"
      ]
     },
     "execution_count": 6,
     "metadata": {},
     "output_type": "execute_result"
    }
   ],
   "source": [
    "df.shape"
   ]
  },
  {
   "cell_type": "code",
   "execution_count": null,
   "metadata": {
    "colab": {
     "base_uri": "https://localhost:8080/",
     "height": 206
    },
    "executionInfo": {
     "elapsed": 8,
     "status": "ok",
     "timestamp": 1653794975447,
     "user": {
      "displayName": "Xiaoli Liu",
      "userId": "11403986246239244527"
     },
     "user_tz": -480
    },
    "id": "Wa-PUi5-VC5r",
    "outputId": "f8d9da05-f8fe-45cd-9425-aeeba2c4e8fb"
   },
   "outputs": [
    {
     "data": {
      "text/html": [
       "\n",
       "  <div id=\"df-4c37980f-0e65-4161-a33d-0d8de963eeb8\">\n",
       "    <div class=\"colab-df-container\">\n",
       "      <div>\n",
       "<style scoped>\n",
       "    .dataframe tbody tr th:only-of-type {\n",
       "        vertical-align: middle;\n",
       "    }\n",
       "\n",
       "    .dataframe tbody tr th {\n",
       "        vertical-align: top;\n",
       "    }\n",
       "\n",
       "    .dataframe thead th {\n",
       "        text-align: right;\n",
       "    }\n",
       "</style>\n",
       "<table border=\"1\" class=\"dataframe\">\n",
       "  <thead>\n",
       "    <tr style=\"text-align: right;\">\n",
       "      <th></th>\n",
       "      <th>id</th>\n",
       "      <th>sentence</th>\n",
       "      <th>label</th>\n",
       "    </tr>\n",
       "  </thead>\n",
       "  <tbody>\n",
       "    <tr>\n",
       "      <th>0</th>\n",
       "      <td>200014</td>\n",
       "      <td>family history: noncontributory. history of th...</td>\n",
       "      <td>0</td>\n",
       "    </tr>\n",
       "    <tr>\n",
       "      <th>1</th>\n",
       "      <td>200014</td>\n",
       "      <td>read as having left lower lobe pneumonia. at t...</td>\n",
       "      <td>0</td>\n",
       "    </tr>\n",
       "    <tr>\n",
       "      <th>2</th>\n",
       "      <td>200014</td>\n",
       "      <td>which was concerning for pelvic fluid leak, po...</td>\n",
       "      <td>0</td>\n",
       "    </tr>\n",
       "    <tr>\n",
       "      <th>3</th>\n",
       "      <td>200014</td>\n",
       "      <td>daughter are both involved in his care. he has...</td>\n",
       "      <td>0</td>\n",
       "    </tr>\n",
       "    <tr>\n",
       "      <th>4</th>\n",
       "      <td>200019</td>\n",
       "      <td>chief complaint: left-sided weakness family hi...</td>\n",
       "      <td>1</td>\n",
       "    </tr>\n",
       "  </tbody>\n",
       "</table>\n",
       "</div>\n",
       "      <button class=\"colab-df-convert\" onclick=\"convertToInteractive('df-4c37980f-0e65-4161-a33d-0d8de963eeb8')\"\n",
       "              title=\"Convert this dataframe to an interactive table.\"\n",
       "              style=\"display:none;\">\n",
       "        \n",
       "  <svg xmlns=\"http://www.w3.org/2000/svg\" height=\"24px\"viewBox=\"0 0 24 24\"\n",
       "       width=\"24px\">\n",
       "    <path d=\"M0 0h24v24H0V0z\" fill=\"none\"/>\n",
       "    <path d=\"M18.56 5.44l.94 2.06.94-2.06 2.06-.94-2.06-.94-.94-2.06-.94 2.06-2.06.94zm-11 1L8.5 8.5l.94-2.06 2.06-.94-2.06-.94L8.5 2.5l-.94 2.06-2.06.94zm10 10l.94 2.06.94-2.06 2.06-.94-2.06-.94-.94-2.06-.94 2.06-2.06.94z\"/><path d=\"M17.41 7.96l-1.37-1.37c-.4-.4-.92-.59-1.43-.59-.52 0-1.04.2-1.43.59L10.3 9.45l-7.72 7.72c-.78.78-.78 2.05 0 2.83L4 21.41c.39.39.9.59 1.41.59.51 0 1.02-.2 1.41-.59l7.78-7.78 2.81-2.81c.8-.78.8-2.07 0-2.86zM5.41 20L4 18.59l7.72-7.72 1.47 1.35L5.41 20z\"/>\n",
       "  </svg>\n",
       "      </button>\n",
       "      \n",
       "  <style>\n",
       "    .colab-df-container {\n",
       "      display:flex;\n",
       "      flex-wrap:wrap;\n",
       "      gap: 12px;\n",
       "    }\n",
       "\n",
       "    .colab-df-convert {\n",
       "      background-color: #E8F0FE;\n",
       "      border: none;\n",
       "      border-radius: 50%;\n",
       "      cursor: pointer;\n",
       "      display: none;\n",
       "      fill: #1967D2;\n",
       "      height: 32px;\n",
       "      padding: 0 0 0 0;\n",
       "      width: 32px;\n",
       "    }\n",
       "\n",
       "    .colab-df-convert:hover {\n",
       "      background-color: #E2EBFA;\n",
       "      box-shadow: 0px 1px 2px rgba(60, 64, 67, 0.3), 0px 1px 3px 1px rgba(60, 64, 67, 0.15);\n",
       "      fill: #174EA6;\n",
       "    }\n",
       "\n",
       "    [theme=dark] .colab-df-convert {\n",
       "      background-color: #3B4455;\n",
       "      fill: #D2E3FC;\n",
       "    }\n",
       "\n",
       "    [theme=dark] .colab-df-convert:hover {\n",
       "      background-color: #434B5C;\n",
       "      box-shadow: 0px 1px 3px 1px rgba(0, 0, 0, 0.15);\n",
       "      filter: drop-shadow(0px 1px 2px rgba(0, 0, 0, 0.3));\n",
       "      fill: #FFFFFF;\n",
       "    }\n",
       "  </style>\n",
       "\n",
       "      <script>\n",
       "        const buttonEl =\n",
       "          document.querySelector('#df-4c37980f-0e65-4161-a33d-0d8de963eeb8 button.colab-df-convert');\n",
       "        buttonEl.style.display =\n",
       "          google.colab.kernel.accessAllowed ? 'block' : 'none';\n",
       "\n",
       "        async function convertToInteractive(key) {\n",
       "          const element = document.querySelector('#df-4c37980f-0e65-4161-a33d-0d8de963eeb8');\n",
       "          const dataTable =\n",
       "            await google.colab.kernel.invokeFunction('convertToInteractive',\n",
       "                                                     [key], {});\n",
       "          if (!dataTable) return;\n",
       "\n",
       "          const docLinkHtml = 'Like what you see? Visit the ' +\n",
       "            '<a target=\"_blank\" href=https://colab.research.google.com/notebooks/data_table.ipynb>data table notebook</a>'\n",
       "            + ' to learn more about interactive tables.';\n",
       "          element.innerHTML = '';\n",
       "          dataTable['output_type'] = 'display_data';\n",
       "          await google.colab.output.renderOutput(dataTable, element);\n",
       "          const docLink = document.createElement('div');\n",
       "          docLink.innerHTML = docLinkHtml;\n",
       "          element.appendChild(docLink);\n",
       "        }\n",
       "      </script>\n",
       "    </div>\n",
       "  </div>\n",
       "  "
      ],
      "text/plain": [
       "       id                                           sentence  label\n",
       "0  200014  family history: noncontributory. history of th...      0\n",
       "1  200014  read as having left lower lobe pneumonia. at t...      0\n",
       "2  200014  which was concerning for pelvic fluid leak, po...      0\n",
       "3  200014  daughter are both involved in his care. he has...      0\n",
       "4  200019  chief complaint: left-sided weakness family hi...      1"
      ]
     },
     "execution_count": 7,
     "metadata": {},
     "output_type": "execute_result"
    }
   ],
   "source": [
    "\n",
    "df.rename(columns={'text': 'sentence'}, inplace=True)\n",
    "\n",
    "df = df[['id','sentence', 'label']]\n",
    "\n",
    "df.head(5)"
   ]
  },
  {
   "cell_type": "code",
   "execution_count": null,
   "metadata": {
    "executionInfo": {
     "elapsed": 7,
     "status": "ok",
     "timestamp": 1653794975447,
     "user": {
      "displayName": "Xiaoli Liu",
      "userId": "11403986246239244527"
     },
     "user_tz": -480
    },
    "id": "hU88ZpL4XVmr"
   },
   "outputs": [],
   "source": [
    "\n",
    "sentences = df.sentence.values\n",
    "labels = df.label.values\n",
    "id_all = df.id.values"
   ]
  },
  {
   "cell_type": "code",
   "execution_count": null,
   "metadata": {
    "colab": {
     "base_uri": "https://localhost:8080/"
    },
    "executionInfo": {
     "elapsed": 3349,
     "status": "ok",
     "timestamp": 1653794978789,
     "user": {
      "displayName": "Xiaoli Liu",
      "userId": "11403986246239244527"
     },
     "user_tz": -480
    },
    "id": "_cYk2r5nAWfZ",
    "outputId": "b8cd484b-aaa3-4e9b-d5bd-dbcf7c1af498"
   },
   "outputs": [
    {
     "name": "stdout",
     "output_type": "stream",
     "text": [
      "Loading BERT tokenizer...\n"
     ]
    }
   ],
   "source": [
    "print('Loading BERT tokenizer...')\n",
    "\n",
    "from transformers import AutoTokenizer, AutoModelForMaskedLM\n",
    "from transformers import BertTokenizer\n",
    "\n",
    "if para_all['bert'] == 'clinicalbert':\n",
    "  tokenizer = AutoTokenizer.from_pretrained(\"emilyalsentzer/Bio_ClinicalBERT\")\n",
    "elif para_all['bert'] == 'clinical_longformer':\n",
    "  tokenizer = AutoTokenizer.from_pretrained(\"yikuan8/Clinical-Longformer\")\n",
    "elif para_all['bert'] == 'clinical_bigbird':\n",
    "  tokenizer = AutoTokenizer.from_pretrained(\"yikuan8/Clinical-BigBird\")\n",
    "else:\n",
    "  tokenizer = BertTokenizer.from_pretrained('bert-base-uncased', do_lower_case=True)\n",
    "  \n",
    "# other models\n",
    "# tokenizer = AutoTokenizer.from_pretrained(\"yikuan8/Clinical-Longformer\")\n",
    "# tokenizer = AutoTokenizer.from_pretrained(\"yikuan8/Clinical-BigBird\")\n",
    "# tokenizer = BertTokenizer.from_pretrained('bert-base-uncased', do_lower_case=True)"
   ]
  },
  {
   "cell_type": "code",
   "execution_count": null,
   "metadata": {
    "colab": {
     "base_uri": "https://localhost:8080/"
    },
    "executionInfo": {
     "elapsed": 6,
     "status": "ok",
     "timestamp": 1653794978790,
     "user": {
      "displayName": "Xiaoli Liu",
      "userId": "11403986246239244527"
     },
     "user_tz": -480
    },
    "id": "b6R3hghRXcTw",
    "outputId": "4b0b738f-b007-4014-e9cc-bc090fbb3388"
   },
   "outputs": [
    {
     "name": "stdout",
     "output_type": "stream",
     "text": [
      " Original:  family history: noncontributory. history of the present illness: mr. is an 84-year-old male with a past medical history of myocardial infarction, severe copd, cvas times two, amyloid angiopathy. he is a nursing home resident with dementia. he was transferred from to of abdominal aortic aneurysm felt to be expanding and possibly leaking at the time of his transfer. the patient initially presented to the with hypercarbic respiratory acidosis secondary to copd. he was intubated. status post intubation, he had a decreased blood pressure to 55/ he was placed on empiric coverage of antibiotics. the white count was 6, hematocrit 9, temperature maximum of a chest x-ray at the time was read as having left lower lobe pneumonia. at the time,\n",
      "Tokenized:  ['family', 'history', ':', 'non', '##con', '##tri', '##but', '##ory', '.', 'history', 'of', 'the', 'present', 'illness', ':', 'm', '##r', '.', 'is', 'an', '84', '-', 'year', '-', 'old', 'male', 'with', 'a', 'past', 'medical', 'history', 'of', 'my', '##oc', '##ard', '##ial', 'in', '##far', '##ction', ',', 'severe', 'cop', '##d', ',', 'c', '##vas', 'times', 'two', ',', 'am', '##yl', '##oid', 'an', '##gio', '##pathy', '.', 'he', 'is', 'a', 'nursing', 'home', 'resident', 'with', 'dem', '##ent', '##ia', '.', 'he', 'was', 'transferred', 'from', 'to', 'of', 'abdominal', 'a', '##ort', '##ic', 'an', '##eur', '##ys', '##m', 'felt', 'to', 'be', 'expanding', 'and', 'possibly', 'leaking', 'at', 'the', 'time', 'of', 'his', 'transfer', '.', 'the', 'patient', 'initially', 'presented', 'to', 'the', 'with', 'h', '##yper', '##car', '##bic', 'respiratory', 'acid', '##osis', 'secondary', 'to', 'cop', '##d', '.', 'he', 'was', 'in', '##tub', '##ated', '.', 'status', 'post', 'in', '##tub', '##ation', ',', 'he', 'had', 'a', 'decreased', 'blood', 'pressure', 'to', '55', '/', 'he', 'was', 'placed', 'on', 'em', '##pi', '##ric', 'coverage', 'of', 'anti', '##biotics', '.', 'the', 'white', 'count', 'was', '6', ',', 'hem', '##ato', '##c', '##rit', '9', ',', 'temperature', 'maximum', 'of', 'a', 'chest', 'x', '-', 'ray', 'at', 'the', 'time', 'was', 'read', 'as', 'having', 'left', 'lower', 'lobe', 'pneumonia', '.', 'at', 'the', 'time', ',']\n",
      "183\n",
      "Token IDs:  [1266, 1607, 131, 1664, 7235, 19091, 16442, 4649, 119, 1607, 1104, 1103, 1675, 6946, 131, 182, 1197, 119, 1110, 1126, 5731, 118, 1214, 118, 1385, 2581, 1114, 170, 1763, 2657, 1607, 1104, 1139, 13335, 2881, 2916, 1107, 14794, 5796, 117, 5199, 9947, 1181, 117, 172, 11509, 1551, 1160, 117, 1821, 7777, 7874, 1126, 10712, 12233, 119, 1119, 1110, 170, 11138, 1313, 6408, 1114, 26707, 3452, 1465, 119, 1119, 1108, 3175, 1121, 1106, 1104, 24716, 170, 12148, 1596, 1126, 8816, 6834, 1306, 1464, 1106, 1129, 9147, 1105, 3566, 27742, 1120, 1103, 1159, 1104, 1117, 4036, 119, 1103, 5351, 2786, 2756, 1106, 1103, 1114, 177, 24312, 8766, 15421, 19192, 5190, 11776, 3718, 1106, 9947, 1181, 119, 1119, 1108, 1107, 25098, 2913, 119, 2781, 2112, 1107, 25098, 1891, 117, 1119, 1125, 170, 10558, 1892, 2997, 1106, 3731, 120, 1119, 1108, 1973, 1113, 9712, 8508, 4907, 5811, 1104, 2848, 25523, 119, 1103, 1653, 5099, 1108, 127, 117, 23123, 10024, 1665, 7729, 130, 117, 4143, 4177, 1104, 170, 2229, 193, 118, 7586, 1120, 1103, 1159, 1108, 2373, 1112, 1515, 1286, 2211, 25163, 20673, 119, 1120, 1103, 1159, 117]\n"
     ]
    }
   ],
   "source": [
    "# Sample case\n",
    "\n",
    "print(' Original: ', sentences[0])\n",
    "\n",
    "print('Tokenized: ', tokenizer.tokenize(sentences[0]))\n",
    "print(len(tokenizer.tokenize(sentences[0])))\n",
    "\n",
    "print('Token IDs: ', tokenizer.convert_tokens_to_ids(tokenizer.tokenize(sentences[0])))"
   ]
  },
  {
   "cell_type": "code",
   "execution_count": null,
   "metadata": {
    "colab": {
     "base_uri": "https://localhost:8080/"
    },
    "executionInfo": {
     "elapsed": 63003,
     "status": "ok",
     "timestamp": 1653795041790,
     "user": {
      "displayName": "Xiaoli Liu",
      "userId": "11403986246239244527"
     },
     "user_tz": -480
    },
    "id": "_tTyrTzVXhyq",
    "outputId": "1b405060-b6a1-489d-a9fd-a60b673e55dd"
   },
   "outputs": [
    {
     "name": "stdout",
     "output_type": "stream",
     "text": [
      "Max sentence length:  447\n",
      "Median sentence length:  189.0\n"
     ]
    }
   ],
   "source": [
    "\n",
    "import statistics\n",
    "\n",
    "max_len = 0\n",
    "len_list = []\n",
    "for sent in sentences:\n",
    "\n",
    " \n",
    "    input_ids = tokenizer.encode(sent, add_special_tokens=True)\n",
    "    max_len = max(max_len, len(input_ids))\n",
    "    len_list = len_list + [len(input_ids)]\n",
    "\n",
    "print('Max sentence length: ', max_len)\n",
    "print('Median sentence length: ', statistics.median(len_list))"
   ]
  },
  {
   "cell_type": "code",
   "execution_count": null,
   "metadata": {
    "colab": {
     "base_uri": "https://localhost:8080/"
    },
    "executionInfo": {
     "elapsed": 60264,
     "status": "ok",
     "timestamp": 1653795102048,
     "user": {
      "displayName": "Xiaoli Liu",
      "userId": "11403986246239244527"
     },
     "user_tz": -480
    },
    "id": "DbaNknNeXna3",
    "outputId": "e75ed627-a04c-4e95-dc16-863c397db539"
   },
   "outputs": [
    {
     "name": "stderr",
     "output_type": "stream",
     "text": [
      "Truncation was not explicitly activated but `max_length` is provided a specific value, please use `truncation=True` to explicitly truncate examples to max length. Defaulting to 'longest_first' truncation strategy. If you encode pairs of sequences (GLUE-style) with the tokenizer you can select this strategy more precisely by providing a specific strategy to `truncation`.\n",
      "/usr/local/lib/python3.7/dist-packages/transformers/tokenization_utils_base.py:2291: FutureWarning: The `pad_to_max_length` argument is deprecated and will be removed in a future version, use `padding=True` or `padding='longest'` to pad to the longest sequence in the batch, or use `padding='max_length'` to pad to a max length. In this case, you can give a specific length with `max_length` (e.g. `max_length=45`) or leave max_length to None to pad to the maximal input size of the model (e.g. 512 for Bert).\n",
      "  FutureWarning,\n"
     ]
    },
    {
     "name": "stdout",
     "output_type": "stream",
     "text": [
      "input_id shape:  torch.Size([102386, 512])\n",
      "attention_masks shape:  torch.Size([102386, 512])\n",
      "labels shape:  torch.Size([102386])\n",
      "id_all shape:  torch.Size([102386])\n"
     ]
    }
   ],
   "source": [
    "\n",
    "input_ids = []\n",
    "attention_masks = []\n",
    "\n",
    "for sent in sentences:\n",
    "    encoded_dict = tokenizer.encode_plus(\n",
    "                        sent,                      \n",
    "                        add_special_tokens = True,           \n",
    "                        max_length = para_all['token_max_length'],    \n",
    "                        pad_to_max_length = True,\n",
    "                        return_attention_mask = True,          .\n",
    "                        return_tensors = 'pt',             \n",
    "                   )\n",
    "    \n",
    "    \n",
    "    input_ids.append(encoded_dict['input_ids'])\n",
    "    \n",
    "    \n",
    "    attention_masks.append(encoded_dict['attention_mask'])\n",
    "\n",
    "\n",
    "input_ids = torch.cat(input_ids, dim=0)\n",
    "attention_masks = torch.cat(attention_masks, dim=0)\n",
    "labels = torch.tensor(labels)\n",
    "id_all = torch.tensor(id_all)\n",
    "\n",
    "print('input_id shape: ', input_ids.shape)\n",
    "print('attention_masks shape: ', attention_masks.shape)\n",
    "print('labels shape: ', labels.shape)\n",
    "print('id_all shape: ', id_all.shape)"
   ]
  },
  {
   "cell_type": "code",
   "execution_count": null,
   "metadata": {
    "colab": {
     "base_uri": "https://localhost:8080/"
    },
    "executionInfo": {
     "elapsed": 9,
     "status": "ok",
     "timestamp": 1653795102048,
     "user": {
      "displayName": "Xiaoli Liu",
      "userId": "11403986246239244527"
     },
     "user_tz": -480
    },
    "id": "erw8_PgJRQvz",
    "outputId": "d5fd5051-b88a-461c-f90d-b37af6301d57"
   },
   "outputs": [
    {
     "name": "stdout",
     "output_type": "stream",
     "text": [
      "Original:  family history: noncontributory. history of the present illness: mr. is an 84-year-old male with a past medical history of myocardial infarction, severe copd, cvas times two, amyloid angiopathy. he is a nursing home resident with dementia. he was transferred from to of abdominal aortic aneurysm felt to be expanding and possibly leaking at the time of his transfer. the patient initially presented to the with hypercarbic respiratory acidosis secondary to copd. he was intubated. status post intubation, he had a decreased blood pressure to 55/ he was placed on empiric coverage of antibiotics. the white count was 6, hematocrit 9, temperature maximum of a chest x-ray at the time was read as having left lower lobe pneumonia. at the time,\n",
      "Token IDs: tensor([  101,  1266,  1607,   131,  1664,  7235, 19091, 16442,  4649,   119,\n",
      "         1607,  1104,  1103,  1675,  6946,   131,   182,  1197,   119,  1110,\n",
      "         1126,  5731,   118,  1214,   118,  1385,  2581,  1114,   170,  1763,\n",
      "         2657,  1607,  1104,  1139, 13335,  2881,  2916,  1107, 14794,  5796,\n",
      "          117,  5199,  9947,  1181,   117,   172, 11509,  1551,  1160,   117,\n",
      "         1821,  7777,  7874,  1126, 10712, 12233,   119,  1119,  1110,   170,\n",
      "        11138,  1313,  6408,  1114, 26707,  3452,  1465,   119,  1119,  1108,\n",
      "         3175,  1121,  1106,  1104, 24716,   170, 12148,  1596,  1126,  8816,\n",
      "         6834,  1306,  1464,  1106,  1129,  9147,  1105,  3566, 27742,  1120,\n",
      "         1103,  1159,  1104,  1117,  4036,   119,  1103,  5351,  2786,  2756,\n",
      "         1106,  1103,  1114,   177, 24312,  8766, 15421, 19192,  5190, 11776,\n",
      "         3718,  1106,  9947,  1181,   119,  1119,  1108,  1107, 25098,  2913,\n",
      "          119,  2781,  2112,  1107, 25098,  1891,   117,  1119,  1125,   170,\n",
      "        10558,  1892,  2997,  1106,  3731,   120,  1119,  1108,  1973,  1113,\n",
      "         9712,  8508,  4907,  5811,  1104,  2848, 25523,   119,  1103,  1653,\n",
      "         5099,  1108,   127,   117, 23123, 10024,  1665,  7729,   130,   117,\n",
      "         4143,  4177,  1104,   170,  2229,   193,   118,  7586,  1120,  1103,\n",
      "         1159,  1108,  2373,  1112,  1515,  1286,  2211, 25163, 20673,   119,\n",
      "         1120,  1103,  1159,   117,   102,     0,     0,     0,     0,     0,\n",
      "            0,     0,     0,     0,     0,     0,     0,     0,     0,     0,\n",
      "            0,     0,     0,     0,     0,     0,     0,     0,     0,     0,\n",
      "            0,     0,     0,     0,     0,     0,     0,     0,     0,     0,\n",
      "            0,     0,     0,     0,     0,     0,     0,     0,     0,     0,\n",
      "            0,     0,     0,     0,     0,     0,     0,     0,     0,     0,\n",
      "            0,     0,     0,     0,     0,     0,     0,     0,     0,     0,\n",
      "            0,     0,     0,     0,     0,     0,     0,     0,     0,     0,\n",
      "            0,     0,     0,     0,     0,     0,     0,     0,     0,     0,\n",
      "            0,     0,     0,     0,     0,     0,     0,     0,     0,     0,\n",
      "            0,     0,     0,     0,     0,     0,     0,     0,     0,     0,\n",
      "            0,     0,     0,     0,     0,     0,     0,     0,     0,     0,\n",
      "            0,     0,     0,     0,     0,     0,     0,     0,     0,     0,\n",
      "            0,     0,     0,     0,     0,     0,     0,     0,     0,     0,\n",
      "            0,     0,     0,     0,     0,     0,     0,     0,     0,     0,\n",
      "            0,     0,     0,     0,     0,     0,     0,     0,     0,     0,\n",
      "            0,     0,     0,     0,     0,     0,     0,     0,     0,     0,\n",
      "            0,     0,     0,     0,     0,     0,     0,     0,     0,     0,\n",
      "            0,     0,     0,     0,     0,     0,     0,     0,     0,     0,\n",
      "            0,     0,     0,     0,     0,     0,     0,     0,     0,     0,\n",
      "            0,     0,     0,     0,     0,     0,     0,     0,     0,     0,\n",
      "            0,     0,     0,     0,     0,     0,     0,     0,     0,     0,\n",
      "            0,     0,     0,     0,     0,     0,     0,     0,     0,     0,\n",
      "            0,     0,     0,     0,     0,     0,     0,     0,     0,     0,\n",
      "            0,     0,     0,     0,     0,     0,     0,     0,     0,     0,\n",
      "            0,     0,     0,     0,     0,     0,     0,     0,     0,     0,\n",
      "            0,     0,     0,     0,     0,     0,     0,     0,     0,     0,\n",
      "            0,     0,     0,     0,     0,     0,     0,     0,     0,     0,\n",
      "            0,     0,     0,     0,     0,     0,     0,     0,     0,     0,\n",
      "            0,     0,     0,     0,     0,     0,     0,     0,     0,     0,\n",
      "            0,     0,     0,     0,     0,     0,     0,     0,     0,     0,\n",
      "            0,     0,     0,     0,     0,     0,     0,     0,     0,     0,\n",
      "            0,     0,     0,     0,     0,     0,     0,     0,     0,     0,\n",
      "            0,     0])\n",
      "Attention masks: tensor([1, 1, 1, 1, 1, 1, 1, 1, 1, 1, 1, 1, 1, 1, 1, 1, 1, 1, 1, 1, 1, 1, 1, 1,\n",
      "        1, 1, 1, 1, 1, 1, 1, 1, 1, 1, 1, 1, 1, 1, 1, 1, 1, 1, 1, 1, 1, 1, 1, 1,\n",
      "        1, 1, 1, 1, 1, 1, 1, 1, 1, 1, 1, 1, 1, 1, 1, 1, 1, 1, 1, 1, 1, 1, 1, 1,\n",
      "        1, 1, 1, 1, 1, 1, 1, 1, 1, 1, 1, 1, 1, 1, 1, 1, 1, 1, 1, 1, 1, 1, 1, 1,\n",
      "        1, 1, 1, 1, 1, 1, 1, 1, 1, 1, 1, 1, 1, 1, 1, 1, 1, 1, 1, 1, 1, 1, 1, 1,\n",
      "        1, 1, 1, 1, 1, 1, 1, 1, 1, 1, 1, 1, 1, 1, 1, 1, 1, 1, 1, 1, 1, 1, 1, 1,\n",
      "        1, 1, 1, 1, 1, 1, 1, 1, 1, 1, 1, 1, 1, 1, 1, 1, 1, 1, 1, 1, 1, 1, 1, 1,\n",
      "        1, 1, 1, 1, 1, 1, 1, 1, 1, 1, 1, 1, 1, 1, 1, 1, 1, 0, 0, 0, 0, 0, 0, 0,\n",
      "        0, 0, 0, 0, 0, 0, 0, 0, 0, 0, 0, 0, 0, 0, 0, 0, 0, 0, 0, 0, 0, 0, 0, 0,\n",
      "        0, 0, 0, 0, 0, 0, 0, 0, 0, 0, 0, 0, 0, 0, 0, 0, 0, 0, 0, 0, 0, 0, 0, 0,\n",
      "        0, 0, 0, 0, 0, 0, 0, 0, 0, 0, 0, 0, 0, 0, 0, 0, 0, 0, 0, 0, 0, 0, 0, 0,\n",
      "        0, 0, 0, 0, 0, 0, 0, 0, 0, 0, 0, 0, 0, 0, 0, 0, 0, 0, 0, 0, 0, 0, 0, 0,\n",
      "        0, 0, 0, 0, 0, 0, 0, 0, 0, 0, 0, 0, 0, 0, 0, 0, 0, 0, 0, 0, 0, 0, 0, 0,\n",
      "        0, 0, 0, 0, 0, 0, 0, 0, 0, 0, 0, 0, 0, 0, 0, 0, 0, 0, 0, 0, 0, 0, 0, 0,\n",
      "        0, 0, 0, 0, 0, 0, 0, 0, 0, 0, 0, 0, 0, 0, 0, 0, 0, 0, 0, 0, 0, 0, 0, 0,\n",
      "        0, 0, 0, 0, 0, 0, 0, 0, 0, 0, 0, 0, 0, 0, 0, 0, 0, 0, 0, 0, 0, 0, 0, 0,\n",
      "        0, 0, 0, 0, 0, 0, 0, 0, 0, 0, 0, 0, 0, 0, 0, 0, 0, 0, 0, 0, 0, 0, 0, 0,\n",
      "        0, 0, 0, 0, 0, 0, 0, 0, 0, 0, 0, 0, 0, 0, 0, 0, 0, 0, 0, 0, 0, 0, 0, 0,\n",
      "        0, 0, 0, 0, 0, 0, 0, 0, 0, 0, 0, 0, 0, 0, 0, 0, 0, 0, 0, 0, 0, 0, 0, 0,\n",
      "        0, 0, 0, 0, 0, 0, 0, 0, 0, 0, 0, 0, 0, 0, 0, 0, 0, 0, 0, 0, 0, 0, 0, 0,\n",
      "        0, 0, 0, 0, 0, 0, 0, 0, 0, 0, 0, 0, 0, 0, 0, 0, 0, 0, 0, 0, 0, 0, 0, 0,\n",
      "        0, 0, 0, 0, 0, 0, 0, 0])\n"
     ]
    }
   ],
   "source": [
    "\n",
    "print('Original: ', sentences[0])\n",
    "print('Token IDs:', input_ids[0])\n",
    "print('Attention masks:', attention_masks[0])"
   ]
  },
  {
   "cell_type": "code",
   "execution_count": null,
   "metadata": {
    "executionInfo": {
     "elapsed": 6,
     "status": "ok",
     "timestamp": 1653795102049,
     "user": {
      "displayName": "Xiaoli Liu",
      "userId": "11403986246239244527"
     },
     "user_tz": -480
    },
    "id": "RFhjZTsNNo_R"
   },
   "outputs": [],
   "source": [
    "import numpy as np\n",
    "import torch\n",
    "from sklearn.model_selection import train_test_split\n",
    "from torch.utils.data import TensorDataset\n",
    "\n",
    "def get_tensordataset(input_ids, attention_masks, labels, id_all, id_source_info)\n",
    "  # tensor to numpy\n",
    "  input_ids_new = input_ids.numpy()\n",
    "  attention_masks_new = attention_masks.numpy()\n",
    "  labels_new = labels.numpy()\n",
    "  id_all_new = id_all.numpy()\n",
    "\n",
    "  # get train, val, test, temp id\n",
    "  id_unique, id_train, id_val_test, id_val, id_test, id_temp = [], [], [], [], [], []\n",
    "  id_temp = id_source_info.loc[id_source_info['source'] == 'temporal','id'].values\n",
    "  \n",
    "  id_unique = np.unique(id_all_new)\n",
    "  id_unique = id_unique[~np.isin(id_unique,id_temp)] # get development set\n",
    "  id_train, id_val_test = train_test_split(id_unique, test_size=0.2, random_state=0, shuffle=True)\n",
    "  id_val, id_test = train_test_split(id_val_test, test_size=0.5, random_state=0, shuffle=True)\n",
    "  # print(len(id_train), len(id_val), len(id_test))\n",
    "  del id_val_test, id_unique\n",
    "  id_info = {}\n",
    "  id_info = {'train':id_train, 'val':id_val, 'test':id_test, 'temp': id_temp}\n",
    "  print(\"train {} val {} test {} temp {}\".format(len(id_train), len(id_val), len(id_test), len(id_temp)))\n",
    "  \n",
    "  # get dataset\n",
    "  dataset_development = {}\n",
    "  for db_type in ['train', 'val', 'test', 'temp']:\n",
    "    pos = []\n",
    "    input_ids_need, attention_masks_need, labels_need, id_info_need = np.array([]), np.array([]), np.array([]), np.array([])\n",
    "    pos = [i for i, x in enumerate(id_all_new) if x in id_info[db_type]]\n",
    "    input_ids_need = torch.from_numpy(input_ids_new[pos,:])\n",
    "    attention_masks_need = torch.from_numpy(attention_masks_new[pos,:])\n",
    "    labels_need = torch.from_numpy(labels_new[pos])\n",
    "    id_info_need = torch.from_numpy(id_all_new[pos])\n",
    "    print(\"{} with input_id shape {} and attention_mask shape {} and label shape {} and id_info shape {}\".\\\n",
    "          format(db_type, input_ids_need.shape, attention_masks_need.shape, labels_need.shape, id_info_need.shape))\n",
    "    dataset = TensorDataset(input_ids_need, attention_masks_need, labels_need, id_info_need)\n",
    "    dataset_development[db_type] = dataset\n",
    "  \n",
    "  return dataset_development, id_info"
   ]
  },
  {
   "cell_type": "code",
   "execution_count": 15,
   "metadata": {
    "colab": {
     "base_uri": "https://localhost:8080/"
    },
    "executionInfo": {
     "elapsed": 3968,
     "status": "ok",
     "timestamp": 1653795106012,
     "user": {
      "displayName": "Xiaoli Liu",
      "userId": "11403986246239244527"
     },
     "user_tz": -480
    },
    "id": "Gn5qNdUAUFKz",
    "outputId": "6443d658-d84d-4d9e-f9e2-1f9c1d62b706"
   },
   "outputs": [
    {
     "name": "stdout",
     "output_type": "stream",
     "text": [
      "train 21178 val 2647 test 2648 temp 3001\n",
      "train with input_id shape torch.Size([73386, 512]) and attention_mask shape torch.Size([73386, 512]) and label shape torch.Size([73386]) and id_info shape torch.Size([73386])\n",
      "val with input_id shape torch.Size([9182, 512]) and attention_mask shape torch.Size([9182, 512]) and label shape torch.Size([9182]) and id_info shape torch.Size([9182])\n",
      "test with input_id shape torch.Size([9193, 512]) and attention_mask shape torch.Size([9193, 512]) and label shape torch.Size([9193]) and id_info shape torch.Size([9193])\n",
      "temp with input_id shape torch.Size([10625, 512]) and attention_mask shape torch.Size([10625, 512]) and label shape torch.Size([10625]) and id_info shape torch.Size([10625])\n"
     ]
    }
   ],
   "source": [
    "dataset_development, id_info = get_tensordataset(input_ids, attention_masks, labels, id_all, id_source_info)"
   ]
  },
  {
   "cell_type": "code",
   "execution_count": null,
   "metadata": {
    "executionInfo": {
     "elapsed": 1505,
     "status": "ok",
     "timestamp": 1653795107515,
     "user": {
      "displayName": "Xiaoli Liu",
      "userId": "11403986246239244527"
     },
     "user_tz": -480
    },
    "id": "Lt0qjE-k9Q7w"
   },
   "outputs": [],
   "source": [
    "id_info = pd.DataFrame.from_dict(id_info, orient='index').transpose()\n",
    "\n",
    "id_info['train'] = id_info['train'].astype('Int64')\n",
    "id_info['val'] = id_info['val'].astype('Int64')\n",
    "id_info['test'] = id_info['test'].astype('Int64')\n",
    "id_info['temp'] = id_info['temp'].astype('Int64')\n",
    "\n",
    "id_info.to_csv(result_path + 'id_info.csv', index=False)"
   ]
  },
  {
   "cell_type": "code",
   "execution_count": null,
   "metadata": {
    "executionInfo": {
     "elapsed": 2,
     "status": "ok",
     "timestamp": 1653795107515,
     "user": {
      "displayName": "Xiaoli Liu",
      "userId": "11403986246239244527"
     },
     "user_tz": -480
    },
    "id": "ZOB3cHVtXyS2"
   },
   "outputs": [],
   "source": [
    "from torch.utils.data import DataLoader, RandomSampler, SequentialSampler\n",
    "\n",
    "\n",
    "batch_size = para_all['batch_size']\n",
    "\n",
    "\n",
    "train_dataloader = DataLoader(\n",
    "            dataset_development['train'],  \n",
    "            sampler = RandomSampler(dataset_development['train']), \n",
    "            batch_size = para_all['batch_size'] \n",
    "        )\n",
    "\n",
    "\n",
    "validation_dataloader = DataLoader(\n",
    "            dataset_development['val'], \n",
    "            sampler = SequentialSampler(dataset_development['val']), \n",
    "            batch_size = para_all['batch_size'] \n",
    "        )\n",
    "\n",
    "\n",
    "test_dataloader = DataLoader(\n",
    "            dataset_development['test'], \n",
    "            sampler = SequentialSampler(dataset_development['test']),\n",
    "            batch_size = para_all['batch_size'] \n",
    "        )\n",
    "\n",
    "\n",
    "temp_dataloader = DataLoader(\n",
    "            dataset_development['temp'], \n",
    "            sampler = SequentialSampler(dataset_development['temp']), \n",
    "            batch_size = para_all['batch_size'] \n",
    "        )"
   ]
  },
  {
   "cell_type": "code",
   "execution_count": 18,
   "metadata": {
    "executionInfo": {
     "elapsed": 3,
     "status": "ok",
     "timestamp": 1653795107516,
     "user": {
      "displayName": "Xiaoli Liu",
      "userId": "11403986246239244527"
     },
     "user_tz": -480
    },
    "id": "bIz97Zp4UjMJ"
   },
   "outputs": [],
   "source": [
    "del input_ids, attention_masks, labels, id_all, sentences, df"
   ]
  },
  {
   "cell_type": "markdown",
   "metadata": {
    "id": "bYJHUtBto-xR"
   },
   "source": [
    "## **2. Bert modeling**"
   ]
  },
  {
   "cell_type": "markdown",
   "metadata": {
    "id": "OR8Ps8PspI1j"
   },
   "source": [
    "\n",
    "\n",
    "1.   loading bert model\n",
    "2.   fine tuning bert model for mortality predicting\n",
    "3.   save train, val, test, and temp all useful results\n",
    "\n"
   ]
  },
  {
   "cell_type": "code",
   "execution_count": null,
   "metadata": {
    "colab": {
     "base_uri": "https://localhost:8080/"
    },
    "executionInfo": {
     "elapsed": 2761,
     "status": "ok",
     "timestamp": 1653795110275,
     "user": {
      "displayName": "Xiaoli Liu",
      "userId": "11403986246239244527"
     },
     "user_tz": -480
    },
    "id": "EbmJtJRlONhv",
    "outputId": "2d403626-e253-445b-db65-1a0ea508163f"
   },
   "outputs": [
    {
     "name": "stderr",
     "output_type": "stream",
     "text": [
      "Some weights of the model checkpoint at emilyalsentzer/Bio_ClinicalBERT were not used when initializing BertForSequenceClassification: ['cls.predictions.transform.dense.weight', 'cls.seq_relationship.bias', 'cls.seq_relationship.weight', 'cls.predictions.transform.LayerNorm.bias', 'cls.predictions.decoder.weight', 'cls.predictions.bias', 'cls.predictions.transform.dense.bias', 'cls.predictions.transform.LayerNorm.weight']\n",
      "- This IS expected if you are initializing BertForSequenceClassification from the checkpoint of a model trained on another task or with another architecture (e.g. initializing a BertForSequenceClassification model from a BertForPreTraining model).\n",
      "- This IS NOT expected if you are initializing BertForSequenceClassification from the checkpoint of a model that you expect to be exactly identical (initializing a BertForSequenceClassification model from a BertForSequenceClassification model).\n",
      "Some weights of BertForSequenceClassification were not initialized from the model checkpoint at emilyalsentzer/Bio_ClinicalBERT and are newly initialized: ['classifier.bias', 'classifier.weight']\n",
      "You should probably TRAIN this model on a down-stream task to be able to use it for predictions and inference.\n"
     ]
    },
    {
     "data": {
      "text/plain": [
       "BertForSequenceClassification(\n",
       "  (bert): BertModel(\n",
       "    (embeddings): BertEmbeddings(\n",
       "      (word_embeddings): Embedding(28996, 768, padding_idx=0)\n",
       "      (position_embeddings): Embedding(512, 768)\n",
       "      (token_type_embeddings): Embedding(2, 768)\n",
       "      (LayerNorm): LayerNorm((768,), eps=1e-12, elementwise_affine=True)\n",
       "      (dropout): Dropout(p=0.1, inplace=False)\n",
       "    )\n",
       "    (encoder): BertEncoder(\n",
       "      (layer): ModuleList(\n",
       "        (0): BertLayer(\n",
       "          (attention): BertAttention(\n",
       "            (self): BertSelfAttention(\n",
       "              (query): Linear(in_features=768, out_features=768, bias=True)\n",
       "              (key): Linear(in_features=768, out_features=768, bias=True)\n",
       "              (value): Linear(in_features=768, out_features=768, bias=True)\n",
       "              (dropout): Dropout(p=0.1, inplace=False)\n",
       "            )\n",
       "            (output): BertSelfOutput(\n",
       "              (dense): Linear(in_features=768, out_features=768, bias=True)\n",
       "              (LayerNorm): LayerNorm((768,), eps=1e-12, elementwise_affine=True)\n",
       "              (dropout): Dropout(p=0.1, inplace=False)\n",
       "            )\n",
       "          )\n",
       "          (intermediate): BertIntermediate(\n",
       "            (dense): Linear(in_features=768, out_features=3072, bias=True)\n",
       "            (intermediate_act_fn): GELUActivation()\n",
       "          )\n",
       "          (output): BertOutput(\n",
       "            (dense): Linear(in_features=3072, out_features=768, bias=True)\n",
       "            (LayerNorm): LayerNorm((768,), eps=1e-12, elementwise_affine=True)\n",
       "            (dropout): Dropout(p=0.1, inplace=False)\n",
       "          )\n",
       "        )\n",
       "        (1): BertLayer(\n",
       "          (attention): BertAttention(\n",
       "            (self): BertSelfAttention(\n",
       "              (query): Linear(in_features=768, out_features=768, bias=True)\n",
       "              (key): Linear(in_features=768, out_features=768, bias=True)\n",
       "              (value): Linear(in_features=768, out_features=768, bias=True)\n",
       "              (dropout): Dropout(p=0.1, inplace=False)\n",
       "            )\n",
       "            (output): BertSelfOutput(\n",
       "              (dense): Linear(in_features=768, out_features=768, bias=True)\n",
       "              (LayerNorm): LayerNorm((768,), eps=1e-12, elementwise_affine=True)\n",
       "              (dropout): Dropout(p=0.1, inplace=False)\n",
       "            )\n",
       "          )\n",
       "          (intermediate): BertIntermediate(\n",
       "            (dense): Linear(in_features=768, out_features=3072, bias=True)\n",
       "            (intermediate_act_fn): GELUActivation()\n",
       "          )\n",
       "          (output): BertOutput(\n",
       "            (dense): Linear(in_features=3072, out_features=768, bias=True)\n",
       "            (LayerNorm): LayerNorm((768,), eps=1e-12, elementwise_affine=True)\n",
       "            (dropout): Dropout(p=0.1, inplace=False)\n",
       "          )\n",
       "        )\n",
       "        (2): BertLayer(\n",
       "          (attention): BertAttention(\n",
       "            (self): BertSelfAttention(\n",
       "              (query): Linear(in_features=768, out_features=768, bias=True)\n",
       "              (key): Linear(in_features=768, out_features=768, bias=True)\n",
       "              (value): Linear(in_features=768, out_features=768, bias=True)\n",
       "              (dropout): Dropout(p=0.1, inplace=False)\n",
       "            )\n",
       "            (output): BertSelfOutput(\n",
       "              (dense): Linear(in_features=768, out_features=768, bias=True)\n",
       "              (LayerNorm): LayerNorm((768,), eps=1e-12, elementwise_affine=True)\n",
       "              (dropout): Dropout(p=0.1, inplace=False)\n",
       "            )\n",
       "          )\n",
       "          (intermediate): BertIntermediate(\n",
       "            (dense): Linear(in_features=768, out_features=3072, bias=True)\n",
       "            (intermediate_act_fn): GELUActivation()\n",
       "          )\n",
       "          (output): BertOutput(\n",
       "            (dense): Linear(in_features=3072, out_features=768, bias=True)\n",
       "            (LayerNorm): LayerNorm((768,), eps=1e-12, elementwise_affine=True)\n",
       "            (dropout): Dropout(p=0.1, inplace=False)\n",
       "          )\n",
       "        )\n",
       "        (3): BertLayer(\n",
       "          (attention): BertAttention(\n",
       "            (self): BertSelfAttention(\n",
       "              (query): Linear(in_features=768, out_features=768, bias=True)\n",
       "              (key): Linear(in_features=768, out_features=768, bias=True)\n",
       "              (value): Linear(in_features=768, out_features=768, bias=True)\n",
       "              (dropout): Dropout(p=0.1, inplace=False)\n",
       "            )\n",
       "            (output): BertSelfOutput(\n",
       "              (dense): Linear(in_features=768, out_features=768, bias=True)\n",
       "              (LayerNorm): LayerNorm((768,), eps=1e-12, elementwise_affine=True)\n",
       "              (dropout): Dropout(p=0.1, inplace=False)\n",
       "            )\n",
       "          )\n",
       "          (intermediate): BertIntermediate(\n",
       "            (dense): Linear(in_features=768, out_features=3072, bias=True)\n",
       "            (intermediate_act_fn): GELUActivation()\n",
       "          )\n",
       "          (output): BertOutput(\n",
       "            (dense): Linear(in_features=3072, out_features=768, bias=True)\n",
       "            (LayerNorm): LayerNorm((768,), eps=1e-12, elementwise_affine=True)\n",
       "            (dropout): Dropout(p=0.1, inplace=False)\n",
       "          )\n",
       "        )\n",
       "        (4): BertLayer(\n",
       "          (attention): BertAttention(\n",
       "            (self): BertSelfAttention(\n",
       "              (query): Linear(in_features=768, out_features=768, bias=True)\n",
       "              (key): Linear(in_features=768, out_features=768, bias=True)\n",
       "              (value): Linear(in_features=768, out_features=768, bias=True)\n",
       "              (dropout): Dropout(p=0.1, inplace=False)\n",
       "            )\n",
       "            (output): BertSelfOutput(\n",
       "              (dense): Linear(in_features=768, out_features=768, bias=True)\n",
       "              (LayerNorm): LayerNorm((768,), eps=1e-12, elementwise_affine=True)\n",
       "              (dropout): Dropout(p=0.1, inplace=False)\n",
       "            )\n",
       "          )\n",
       "          (intermediate): BertIntermediate(\n",
       "            (dense): Linear(in_features=768, out_features=3072, bias=True)\n",
       "            (intermediate_act_fn): GELUActivation()\n",
       "          )\n",
       "          (output): BertOutput(\n",
       "            (dense): Linear(in_features=3072, out_features=768, bias=True)\n",
       "            (LayerNorm): LayerNorm((768,), eps=1e-12, elementwise_affine=True)\n",
       "            (dropout): Dropout(p=0.1, inplace=False)\n",
       "          )\n",
       "        )\n",
       "        (5): BertLayer(\n",
       "          (attention): BertAttention(\n",
       "            (self): BertSelfAttention(\n",
       "              (query): Linear(in_features=768, out_features=768, bias=True)\n",
       "              (key): Linear(in_features=768, out_features=768, bias=True)\n",
       "              (value): Linear(in_features=768, out_features=768, bias=True)\n",
       "              (dropout): Dropout(p=0.1, inplace=False)\n",
       "            )\n",
       "            (output): BertSelfOutput(\n",
       "              (dense): Linear(in_features=768, out_features=768, bias=True)\n",
       "              (LayerNorm): LayerNorm((768,), eps=1e-12, elementwise_affine=True)\n",
       "              (dropout): Dropout(p=0.1, inplace=False)\n",
       "            )\n",
       "          )\n",
       "          (intermediate): BertIntermediate(\n",
       "            (dense): Linear(in_features=768, out_features=3072, bias=True)\n",
       "            (intermediate_act_fn): GELUActivation()\n",
       "          )\n",
       "          (output): BertOutput(\n",
       "            (dense): Linear(in_features=3072, out_features=768, bias=True)\n",
       "            (LayerNorm): LayerNorm((768,), eps=1e-12, elementwise_affine=True)\n",
       "            (dropout): Dropout(p=0.1, inplace=False)\n",
       "          )\n",
       "        )\n",
       "        (6): BertLayer(\n",
       "          (attention): BertAttention(\n",
       "            (self): BertSelfAttention(\n",
       "              (query): Linear(in_features=768, out_features=768, bias=True)\n",
       "              (key): Linear(in_features=768, out_features=768, bias=True)\n",
       "              (value): Linear(in_features=768, out_features=768, bias=True)\n",
       "              (dropout): Dropout(p=0.1, inplace=False)\n",
       "            )\n",
       "            (output): BertSelfOutput(\n",
       "              (dense): Linear(in_features=768, out_features=768, bias=True)\n",
       "              (LayerNorm): LayerNorm((768,), eps=1e-12, elementwise_affine=True)\n",
       "              (dropout): Dropout(p=0.1, inplace=False)\n",
       "            )\n",
       "          )\n",
       "          (intermediate): BertIntermediate(\n",
       "            (dense): Linear(in_features=768, out_features=3072, bias=True)\n",
       "            (intermediate_act_fn): GELUActivation()\n",
       "          )\n",
       "          (output): BertOutput(\n",
       "            (dense): Linear(in_features=3072, out_features=768, bias=True)\n",
       "            (LayerNorm): LayerNorm((768,), eps=1e-12, elementwise_affine=True)\n",
       "            (dropout): Dropout(p=0.1, inplace=False)\n",
       "          )\n",
       "        )\n",
       "        (7): BertLayer(\n",
       "          (attention): BertAttention(\n",
       "            (self): BertSelfAttention(\n",
       "              (query): Linear(in_features=768, out_features=768, bias=True)\n",
       "              (key): Linear(in_features=768, out_features=768, bias=True)\n",
       "              (value): Linear(in_features=768, out_features=768, bias=True)\n",
       "              (dropout): Dropout(p=0.1, inplace=False)\n",
       "            )\n",
       "            (output): BertSelfOutput(\n",
       "              (dense): Linear(in_features=768, out_features=768, bias=True)\n",
       "              (LayerNorm): LayerNorm((768,), eps=1e-12, elementwise_affine=True)\n",
       "              (dropout): Dropout(p=0.1, inplace=False)\n",
       "            )\n",
       "          )\n",
       "          (intermediate): BertIntermediate(\n",
       "            (dense): Linear(in_features=768, out_features=3072, bias=True)\n",
       "            (intermediate_act_fn): GELUActivation()\n",
       "          )\n",
       "          (output): BertOutput(\n",
       "            (dense): Linear(in_features=3072, out_features=768, bias=True)\n",
       "            (LayerNorm): LayerNorm((768,), eps=1e-12, elementwise_affine=True)\n",
       "            (dropout): Dropout(p=0.1, inplace=False)\n",
       "          )\n",
       "        )\n",
       "        (8): BertLayer(\n",
       "          (attention): BertAttention(\n",
       "            (self): BertSelfAttention(\n",
       "              (query): Linear(in_features=768, out_features=768, bias=True)\n",
       "              (key): Linear(in_features=768, out_features=768, bias=True)\n",
       "              (value): Linear(in_features=768, out_features=768, bias=True)\n",
       "              (dropout): Dropout(p=0.1, inplace=False)\n",
       "            )\n",
       "            (output): BertSelfOutput(\n",
       "              (dense): Linear(in_features=768, out_features=768, bias=True)\n",
       "              (LayerNorm): LayerNorm((768,), eps=1e-12, elementwise_affine=True)\n",
       "              (dropout): Dropout(p=0.1, inplace=False)\n",
       "            )\n",
       "          )\n",
       "          (intermediate): BertIntermediate(\n",
       "            (dense): Linear(in_features=768, out_features=3072, bias=True)\n",
       "            (intermediate_act_fn): GELUActivation()\n",
       "          )\n",
       "          (output): BertOutput(\n",
       "            (dense): Linear(in_features=3072, out_features=768, bias=True)\n",
       "            (LayerNorm): LayerNorm((768,), eps=1e-12, elementwise_affine=True)\n",
       "            (dropout): Dropout(p=0.1, inplace=False)\n",
       "          )\n",
       "        )\n",
       "        (9): BertLayer(\n",
       "          (attention): BertAttention(\n",
       "            (self): BertSelfAttention(\n",
       "              (query): Linear(in_features=768, out_features=768, bias=True)\n",
       "              (key): Linear(in_features=768, out_features=768, bias=True)\n",
       "              (value): Linear(in_features=768, out_features=768, bias=True)\n",
       "              (dropout): Dropout(p=0.1, inplace=False)\n",
       "            )\n",
       "            (output): BertSelfOutput(\n",
       "              (dense): Linear(in_features=768, out_features=768, bias=True)\n",
       "              (LayerNorm): LayerNorm((768,), eps=1e-12, elementwise_affine=True)\n",
       "              (dropout): Dropout(p=0.1, inplace=False)\n",
       "            )\n",
       "          )\n",
       "          (intermediate): BertIntermediate(\n",
       "            (dense): Linear(in_features=768, out_features=3072, bias=True)\n",
       "            (intermediate_act_fn): GELUActivation()\n",
       "          )\n",
       "          (output): BertOutput(\n",
       "            (dense): Linear(in_features=3072, out_features=768, bias=True)\n",
       "            (LayerNorm): LayerNorm((768,), eps=1e-12, elementwise_affine=True)\n",
       "            (dropout): Dropout(p=0.1, inplace=False)\n",
       "          )\n",
       "        )\n",
       "        (10): BertLayer(\n",
       "          (attention): BertAttention(\n",
       "            (self): BertSelfAttention(\n",
       "              (query): Linear(in_features=768, out_features=768, bias=True)\n",
       "              (key): Linear(in_features=768, out_features=768, bias=True)\n",
       "              (value): Linear(in_features=768, out_features=768, bias=True)\n",
       "              (dropout): Dropout(p=0.1, inplace=False)\n",
       "            )\n",
       "            (output): BertSelfOutput(\n",
       "              (dense): Linear(in_features=768, out_features=768, bias=True)\n",
       "              (LayerNorm): LayerNorm((768,), eps=1e-12, elementwise_affine=True)\n",
       "              (dropout): Dropout(p=0.1, inplace=False)\n",
       "            )\n",
       "          )\n",
       "          (intermediate): BertIntermediate(\n",
       "            (dense): Linear(in_features=768, out_features=3072, bias=True)\n",
       "            (intermediate_act_fn): GELUActivation()\n",
       "          )\n",
       "          (output): BertOutput(\n",
       "            (dense): Linear(in_features=3072, out_features=768, bias=True)\n",
       "            (LayerNorm): LayerNorm((768,), eps=1e-12, elementwise_affine=True)\n",
       "            (dropout): Dropout(p=0.1, inplace=False)\n",
       "          )\n",
       "        )\n",
       "        (11): BertLayer(\n",
       "          (attention): BertAttention(\n",
       "            (self): BertSelfAttention(\n",
       "              (query): Linear(in_features=768, out_features=768, bias=True)\n",
       "              (key): Linear(in_features=768, out_features=768, bias=True)\n",
       "              (value): Linear(in_features=768, out_features=768, bias=True)\n",
       "              (dropout): Dropout(p=0.1, inplace=False)\n",
       "            )\n",
       "            (output): BertSelfOutput(\n",
       "              (dense): Linear(in_features=768, out_features=768, bias=True)\n",
       "              (LayerNorm): LayerNorm((768,), eps=1e-12, elementwise_affine=True)\n",
       "              (dropout): Dropout(p=0.1, inplace=False)\n",
       "            )\n",
       "          )\n",
       "          (intermediate): BertIntermediate(\n",
       "            (dense): Linear(in_features=768, out_features=3072, bias=True)\n",
       "            (intermediate_act_fn): GELUActivation()\n",
       "          )\n",
       "          (output): BertOutput(\n",
       "            (dense): Linear(in_features=3072, out_features=768, bias=True)\n",
       "            (LayerNorm): LayerNorm((768,), eps=1e-12, elementwise_affine=True)\n",
       "            (dropout): Dropout(p=0.1, inplace=False)\n",
       "          )\n",
       "        )\n",
       "      )\n",
       "    )\n",
       "    (pooler): BertPooler(\n",
       "      (dense): Linear(in_features=768, out_features=768, bias=True)\n",
       "      (activation): Tanh()\n",
       "    )\n",
       "  )\n",
       "  (dropout): Dropout(p=0.1, inplace=False)\n",
       "  (classifier): Linear(in_features=768, out_features=2, bias=True)\n",
       ")"
      ]
     },
     "execution_count": 19,
     "metadata": {},
     "output_type": "execute_result"
    }
   ],
   "source": [
    "from transformers import AutoModelForSequenceClassification, AdamW, AutoConfig,AutoTokenizer\n",
    "from transformers import BertForSequenceClassification, AdamW, BertConfig\n",
    "\n",
    "if para_all['bert'] == 'clinicalbert':\n",
    "  model = AutoModelForSequenceClassification.from_pretrained(\"emilyalsentzer/Bio_ClinicalBERT\", num_labels=2)\n",
    "elif para_all['bert'] == 'clinical_longformer':\n",
    "  model = AutoModelForSequenceClassification.from_pretrained(\"yikuan8/Clinical-Longformer\", num_labels=2)\n",
    "elif para_all['bert'] == 'clinical_bigbird':\n",
    "  model = AutoModelForSequenceClassification.from_pretrained(\"yikuan8/Clinical-BigBird\", num_labels=2)\n",
    "else:\n",
    "  model = BertForSequenceClassification.from_pretrained(\n",
    "      \"bert-base-uncased\", \n",
    "      num_labels = 2, \n",
    "                      \n",
    "      output_attentions = False, .\n",
    "      output_hidden_states = False, \n",
    "  )\n",
    "\n",
    "\n",
    "model.cuda()"
   ]
  },
  {
   "cell_type": "code",
   "execution_count": null,
   "metadata": {
    "colab": {
     "base_uri": "https://localhost:8080/"
    },
    "executionInfo": {
     "elapsed": 9,
     "status": "ok",
     "timestamp": 1653795110275,
     "user": {
      "displayName": "Xiaoli Liu",
      "userId": "11403986246239244527"
     },
     "user_tz": -480
    },
    "id": "5VTQj4zSX646",
    "outputId": "5dd3607a-5325-4e0a-e3a5-1429866f72dc"
   },
   "outputs": [
    {
     "name": "stdout",
     "output_type": "stream",
     "text": [
      "The BERT model has 201 different named parameters.\n",
      "\n",
      "==== Embedding Layer ====\n",
      "\n",
      "bert.embeddings.word_embeddings.weight                  (28996, 768)\n",
      "bert.embeddings.position_embeddings.weight                (512, 768)\n",
      "bert.embeddings.token_type_embeddings.weight                (2, 768)\n",
      "bert.embeddings.LayerNorm.weight                              (768,)\n",
      "bert.embeddings.LayerNorm.bias                                (768,)\n",
      "\n",
      "==== First Transformer ====\n",
      "\n",
      "bert.encoder.layer.0.attention.self.query.weight          (768, 768)\n",
      "bert.encoder.layer.0.attention.self.query.bias                (768,)\n",
      "bert.encoder.layer.0.attention.self.key.weight            (768, 768)\n",
      "bert.encoder.layer.0.attention.self.key.bias                  (768,)\n",
      "bert.encoder.layer.0.attention.self.value.weight          (768, 768)\n",
      "bert.encoder.layer.0.attention.self.value.bias                (768,)\n",
      "bert.encoder.layer.0.attention.output.dense.weight        (768, 768)\n",
      "bert.encoder.layer.0.attention.output.dense.bias              (768,)\n",
      "bert.encoder.layer.0.attention.output.LayerNorm.weight        (768,)\n",
      "bert.encoder.layer.0.attention.output.LayerNorm.bias          (768,)\n",
      "bert.encoder.layer.0.intermediate.dense.weight           (3072, 768)\n",
      "bert.encoder.layer.0.intermediate.dense.bias                 (3072,)\n",
      "bert.encoder.layer.0.output.dense.weight                 (768, 3072)\n",
      "bert.encoder.layer.0.output.dense.bias                        (768,)\n",
      "bert.encoder.layer.0.output.LayerNorm.weight                  (768,)\n",
      "bert.encoder.layer.0.output.LayerNorm.bias                    (768,)\n",
      "\n",
      "==== Output Layer ====\n",
      "\n",
      "bert.pooler.dense.weight                                  (768, 768)\n",
      "bert.pooler.dense.bias                                        (768,)\n",
      "classifier.weight                                           (2, 768)\n",
      "classifier.bias                                                 (2,)\n"
     ]
    }
   ],
   "source": [
    "\n",
    "params = list(model.named_parameters())\n",
    "\n",
    "print('The BERT model has {:} different named parameters.\\n'.format(len(params)))\n",
    "\n",
    "print('==== Embedding Layer ====\\n')\n",
    "\n",
    "for p in params[0:5]:\n",
    "    print(\"{:<55} {:>12}\".format(p[0], str(tuple(p[1].size()))))\n",
    "\n",
    "print('\\n==== First Transformer ====\\n')\n",
    "\n",
    "for p in params[5:21]:\n",
    "    print(\"{:<55} {:>12}\".format(p[0], str(tuple(p[1].size()))))\n",
    "\n",
    "print('\\n==== Output Layer ====\\n')\n",
    "\n",
    "for p in params[-4:]:\n",
    "    print(\"{:<55} {:>12}\".format(p[0], str(tuple(p[1].size()))))"
   ]
  },
  {
   "cell_type": "code",
   "execution_count": null,
   "metadata": {
    "colab": {
     "base_uri": "https://localhost:8080/"
    },
    "executionInfo": {
     "elapsed": 5,
     "status": "ok",
     "timestamp": 1653795110276,
     "user": {
      "displayName": "Xiaoli Liu",
      "userId": "11403986246239244527"
     },
     "user_tz": -480
    },
    "id": "LnFcY9p3X9YE",
    "outputId": "8c37c695-0e77-4704-88b1-8b7b8437ab72"
   },
   "outputs": [
    {
     "name": "stderr",
     "output_type": "stream",
     "text": [
      "/usr/local/lib/python3.7/dist-packages/transformers/optimization.py:309: FutureWarning: This implementation of AdamW is deprecated and will be removed in a future version. Use the PyTorch implementation torch.optim.AdamW instead, or set `no_deprecation_warning=True` to disable this warning\n",
      "  FutureWarning,\n"
     ]
    }
   ],
   "source": [
    "from transformers import AdamW, BertConfig\n",
    "\n",
    "\n",
    "optimizer = AdamW(model.parameters(),\n",
    "                  lr = para_all['learning_rate'], # args.learning_rate - default is 5e-5\n",
    "                  eps = 1e-8 # args.adam_epsilon  - default is 1e-8\n",
    "                )\n",
    "\n",
    "from transformers import get_linear_schedule_with_warmup\n",
    "\n",
    "\n",
    "epochs = para_all['epochs'] \n",
    "\n",
    "\n",
    "total_steps = len(train_dataloader) * epochs\n",
    "\n",
    "\n",
    "scheduler = get_linear_schedule_with_warmup(optimizer, num_warmup_steps = 0, num_training_steps = total_steps)"
   ]
  },
  {
   "cell_type": "code",
   "execution_count": null,
   "metadata": {
    "executionInfo": {
     "elapsed": 3,
     "status": "ok",
     "timestamp": 1653795110276,
     "user": {
      "displayName": "Xiaoli Liu",
      "userId": "11403986246239244527"
     },
     "user_tz": -480
    },
    "id": "7vLfI_gKX_7w"
   },
   "outputs": [],
   "source": [
    "import numpy as np\n",
    "\n",
    "\n",
    "def flat_accuracy(preds, labels):\n",
    "    pred_flat = np.argmax(preds, axis=1).flatten()\n",
    "    labels_flat = labels.flatten()\n",
    "    return np.sum(pred_flat == labels_flat) / len(labels_flat)\n",
    "\n",
    "import time\n",
    "import datetime\n",
    "\n",
    "def format_time(elapsed):\n",
    "    '''\n",
    "    Takes a time in seconds and returns a string hh:mm:ss\n",
    "    '''\n",
    "    \n",
    "    elapsed_rounded = int(round((elapsed)))\n",
    "    \n",
    "   \n",
    "    return str(datetime.timedelta(seconds=elapsed_rounded))"
   ]
  },
  {
   "cell_type": "code",
   "execution_count": null,
   "metadata": {
    "colab": {
     "background_save": true,
     "base_uri": "https://localhost:8080/"
    },
    "id": "eFHXPwxsYENC"
   },
   "outputs": [
    {
     "name": "stdout",
     "output_type": "stream",
     "text": [
      "\n",
      "======== Epoch 1 / 2 ========\n",
      "Training...\n",
      "  Batch    40  of  6,116.    Elapsed: 0:00:25.\n",
      "  Batch    80  of  6,116.    Elapsed: 0:00:51.\n",
      "  Batch   120  of  6,116.    Elapsed: 0:01:16.\n",
      "  Batch   160  of  6,116.    Elapsed: 0:01:42.\n",
      "  Batch   200  of  6,116.    Elapsed: 0:02:07.\n",
      "  Batch   240  of  6,116.    Elapsed: 0:02:33.\n",
      "  Batch   280  of  6,116.    Elapsed: 0:02:58.\n",
      "  Batch   320  of  6,116.    Elapsed: 0:03:23.\n",
      "  Batch   360  of  6,116.    Elapsed: 0:03:49.\n",
      "  Batch   400  of  6,116.    Elapsed: 0:04:14.\n",
      "  Batch   440  of  6,116.    Elapsed: 0:04:40.\n",
      "  Batch   480  of  6,116.    Elapsed: 0:05:05.\n",
      "  Batch   520  of  6,116.    Elapsed: 0:05:31.\n",
      "  Batch   560  of  6,116.    Elapsed: 0:05:56.\n",
      "  Batch   600  of  6,116.    Elapsed: 0:06:21.\n",
      "  Batch   640  of  6,116.    Elapsed: 0:06:47.\n",
      "  Batch   680  of  6,116.    Elapsed: 0:07:12.\n",
      "  Batch   720  of  6,116.    Elapsed: 0:07:38.\n",
      "  Batch   760  of  6,116.    Elapsed: 0:08:03.\n",
      "  Batch   800  of  6,116.    Elapsed: 0:08:28.\n",
      "  Batch   840  of  6,116.    Elapsed: 0:08:54.\n",
      "  Batch   880  of  6,116.    Elapsed: 0:09:19.\n",
      "  Batch   920  of  6,116.    Elapsed: 0:09:45.\n",
      "  Batch   960  of  6,116.    Elapsed: 0:10:10.\n",
      "  Batch 1,000  of  6,116.    Elapsed: 0:10:36.\n",
      "  Batch 1,040  of  6,116.    Elapsed: 0:11:01.\n",
      "  Batch 1,080  of  6,116.    Elapsed: 0:11:26.\n",
      "  Batch 1,120  of  6,116.    Elapsed: 0:11:52.\n",
      "  Batch 1,160  of  6,116.    Elapsed: 0:12:17.\n",
      "  Batch 1,200  of  6,116.    Elapsed: 0:12:43.\n",
      "  Batch 1,240  of  6,116.    Elapsed: 0:13:08.\n",
      "  Batch 1,280  of  6,116.    Elapsed: 0:13:33.\n",
      "  Batch 1,320  of  6,116.    Elapsed: 0:13:59.\n",
      "  Batch 1,360  of  6,116.    Elapsed: 0:14:24.\n",
      "  Batch 1,400  of  6,116.    Elapsed: 0:14:50.\n",
      "  Batch 1,440  of  6,116.    Elapsed: 0:15:15.\n",
      "  Batch 1,480  of  6,116.    Elapsed: 0:15:41.\n",
      "  Batch 1,520  of  6,116.    Elapsed: 0:16:06.\n",
      "  Batch 1,560  of  6,116.    Elapsed: 0:16:31.\n",
      "  Batch 1,600  of  6,116.    Elapsed: 0:16:57.\n",
      "  Batch 1,640  of  6,116.    Elapsed: 0:17:22.\n",
      "  Batch 1,680  of  6,116.    Elapsed: 0:17:48.\n",
      "  Batch 1,720  of  6,116.    Elapsed: 0:18:13.\n",
      "  Batch 1,760  of  6,116.    Elapsed: 0:18:38.\n",
      "  Batch 1,800  of  6,116.    Elapsed: 0:19:04.\n",
      "  Batch 1,840  of  6,116.    Elapsed: 0:19:29.\n",
      "  Batch 1,880  of  6,116.    Elapsed: 0:19:55.\n",
      "  Batch 1,920  of  6,116.    Elapsed: 0:20:20.\n",
      "  Batch 1,960  of  6,116.    Elapsed: 0:20:46.\n",
      "  Batch 2,000  of  6,116.    Elapsed: 0:21:11.\n",
      "  Batch 2,040  of  6,116.    Elapsed: 0:21:36.\n",
      "  Batch 2,080  of  6,116.    Elapsed: 0:22:02.\n",
      "  Batch 2,120  of  6,116.    Elapsed: 0:22:27.\n",
      "  Batch 2,160  of  6,116.    Elapsed: 0:22:53.\n",
      "  Batch 2,200  of  6,116.    Elapsed: 0:23:18.\n",
      "  Batch 2,240  of  6,116.    Elapsed: 0:23:43.\n",
      "  Batch 2,280  of  6,116.    Elapsed: 0:24:09.\n",
      "  Batch 2,320  of  6,116.    Elapsed: 0:24:34.\n",
      "  Batch 2,360  of  6,116.    Elapsed: 0:25:00.\n",
      "  Batch 2,400  of  6,116.    Elapsed: 0:25:25.\n",
      "  Batch 2,440  of  6,116.    Elapsed: 0:25:51.\n",
      "  Batch 2,480  of  6,116.    Elapsed: 0:26:16.\n",
      "  Batch 2,520  of  6,116.    Elapsed: 0:26:41.\n",
      "  Batch 2,560  of  6,116.    Elapsed: 0:27:07.\n",
      "  Batch 2,600  of  6,116.    Elapsed: 0:27:32.\n",
      "  Batch 2,640  of  6,116.    Elapsed: 0:27:58.\n",
      "  Batch 2,680  of  6,116.    Elapsed: 0:28:23.\n",
      "  Batch 2,720  of  6,116.    Elapsed: 0:28:48.\n",
      "  Batch 2,760  of  6,116.    Elapsed: 0:29:14.\n",
      "  Batch 2,800  of  6,116.    Elapsed: 0:29:39.\n",
      "  Batch 2,840  of  6,116.    Elapsed: 0:30:05.\n",
      "  Batch 2,880  of  6,116.    Elapsed: 0:30:30.\n",
      "  Batch 2,920  of  6,116.    Elapsed: 0:30:56.\n",
      "  Batch 2,960  of  6,116.    Elapsed: 0:31:21.\n",
      "  Batch 3,000  of  6,116.    Elapsed: 0:31:46.\n",
      "  Batch 3,040  of  6,116.    Elapsed: 0:32:12.\n",
      "  Batch 3,080  of  6,116.    Elapsed: 0:32:37.\n",
      "  Batch 3,120  of  6,116.    Elapsed: 0:33:03.\n",
      "  Batch 3,160  of  6,116.    Elapsed: 0:33:28.\n",
      "  Batch 3,200  of  6,116.    Elapsed: 0:33:53.\n",
      "  Batch 3,240  of  6,116.    Elapsed: 0:34:19.\n",
      "  Batch 3,280  of  6,116.    Elapsed: 0:34:44.\n",
      "  Batch 3,320  of  6,116.    Elapsed: 0:35:10.\n",
      "  Batch 3,360  of  6,116.    Elapsed: 0:35:35.\n",
      "  Batch 3,400  of  6,116.    Elapsed: 0:36:00.\n",
      "  Batch 3,440  of  6,116.    Elapsed: 0:36:26.\n",
      "  Batch 3,480  of  6,116.    Elapsed: 0:36:51.\n",
      "  Batch 3,520  of  6,116.    Elapsed: 0:37:17.\n",
      "  Batch 3,560  of  6,116.    Elapsed: 0:37:42.\n",
      "  Batch 3,600  of  6,116.    Elapsed: 0:38:08.\n",
      "  Batch 3,640  of  6,116.    Elapsed: 0:38:33.\n",
      "  Batch 3,680  of  6,116.    Elapsed: 0:38:58.\n",
      "  Batch 3,720  of  6,116.    Elapsed: 0:39:24.\n",
      "  Batch 3,760  of  6,116.    Elapsed: 0:39:49.\n",
      "  Batch 3,800  of  6,116.    Elapsed: 0:40:15.\n",
      "  Batch 3,840  of  6,116.    Elapsed: 0:40:40.\n",
      "  Batch 3,880  of  6,116.    Elapsed: 0:41:05.\n",
      "  Batch 3,920  of  6,116.    Elapsed: 0:41:31.\n",
      "  Batch 3,960  of  6,116.    Elapsed: 0:41:56.\n",
      "  Batch 4,000  of  6,116.    Elapsed: 0:42:22.\n",
      "  Batch 4,040  of  6,116.    Elapsed: 0:42:47.\n",
      "  Batch 4,080  of  6,116.    Elapsed: 0:43:12.\n",
      "  Batch 4,120  of  6,116.    Elapsed: 0:43:38.\n",
      "  Batch 4,160  of  6,116.    Elapsed: 0:44:03.\n",
      "  Batch 4,200  of  6,116.    Elapsed: 0:44:29.\n",
      "  Batch 4,240  of  6,116.    Elapsed: 0:44:54.\n",
      "  Batch 4,280  of  6,116.    Elapsed: 0:45:19.\n",
      "  Batch 4,320  of  6,116.    Elapsed: 0:45:45.\n",
      "  Batch 4,360  of  6,116.    Elapsed: 0:46:10.\n",
      "  Batch 4,400  of  6,116.    Elapsed: 0:46:36.\n",
      "  Batch 4,440  of  6,116.    Elapsed: 0:47:01.\n",
      "  Batch 4,480  of  6,116.    Elapsed: 0:47:26.\n",
      "  Batch 4,520  of  6,116.    Elapsed: 0:47:52.\n",
      "  Batch 4,560  of  6,116.    Elapsed: 0:48:17.\n",
      "  Batch 4,600  of  6,116.    Elapsed: 0:48:43.\n",
      "  Batch 4,640  of  6,116.    Elapsed: 0:49:08.\n",
      "  Batch 4,680  of  6,116.    Elapsed: 0:49:34.\n",
      "  Batch 4,720  of  6,116.    Elapsed: 0:49:59.\n",
      "  Batch 4,760  of  6,116.    Elapsed: 0:50:24.\n",
      "  Batch 4,800  of  6,116.    Elapsed: 0:50:50.\n",
      "  Batch 4,840  of  6,116.    Elapsed: 0:51:15.\n",
      "  Batch 4,880  of  6,116.    Elapsed: 0:51:41.\n",
      "  Batch 4,920  of  6,116.    Elapsed: 0:52:06.\n",
      "  Batch 4,960  of  6,116.    Elapsed: 0:52:31.\n",
      "  Batch 5,000  of  6,116.    Elapsed: 0:52:57.\n",
      "  Batch 5,040  of  6,116.    Elapsed: 0:53:22.\n",
      "  Batch 5,080  of  6,116.    Elapsed: 0:53:48.\n",
      "  Batch 5,120  of  6,116.    Elapsed: 0:54:13.\n",
      "  Batch 5,160  of  6,116.    Elapsed: 0:54:38.\n",
      "  Batch 5,200  of  6,116.    Elapsed: 0:55:04.\n",
      "  Batch 5,240  of  6,116.    Elapsed: 0:55:29.\n",
      "  Batch 5,280  of  6,116.    Elapsed: 0:55:55.\n",
      "  Batch 5,320  of  6,116.    Elapsed: 0:56:20.\n",
      "  Batch 5,360  of  6,116.    Elapsed: 0:56:45.\n",
      "  Batch 5,400  of  6,116.    Elapsed: 0:57:11.\n",
      "  Batch 5,440  of  6,116.    Elapsed: 0:57:36.\n",
      "  Batch 5,480  of  6,116.    Elapsed: 0:58:02.\n",
      "  Batch 5,520  of  6,116.    Elapsed: 0:58:27.\n",
      "  Batch 5,560  of  6,116.    Elapsed: 0:58:52.\n",
      "  Batch 5,600  of  6,116.    Elapsed: 0:59:18.\n",
      "  Batch 5,640  of  6,116.    Elapsed: 0:59:43.\n",
      "  Batch 5,680  of  6,116.    Elapsed: 1:00:08.\n",
      "  Batch 5,720  of  6,116.    Elapsed: 1:00:34.\n",
      "  Batch 5,760  of  6,116.    Elapsed: 1:00:59.\n",
      "  Batch 5,800  of  6,116.    Elapsed: 1:01:25.\n",
      "  Batch 5,840  of  6,116.    Elapsed: 1:01:50.\n",
      "  Batch 5,880  of  6,116.    Elapsed: 1:02:15.\n",
      "  Batch 5,920  of  6,116.    Elapsed: 1:02:41.\n",
      "  Batch 5,960  of  6,116.    Elapsed: 1:03:06.\n",
      "  Batch 6,000  of  6,116.    Elapsed: 1:03:32.\n",
      "  Batch 6,040  of  6,116.    Elapsed: 1:03:57.\n",
      "  Batch 6,080  of  6,116.    Elapsed: 1:04:22.\n",
      "\n",
      "  Average training loss: 0.37\n",
      "  Training epcoh took: 1:04:45\n",
      "\n",
      "Running Validation...\n",
      "  Accuracy: 0.86\n",
      "  Validation Loss: 0.37\n",
      "  Validation took: 0:02:37\n",
      "\n",
      "======== Epoch 2 / 2 ========\n",
      "Training...\n",
      "  Batch    40  of  6,116.    Elapsed: 0:00:25.\n",
      "  Batch    80  of  6,116.    Elapsed: 0:00:51.\n",
      "  Batch   120  of  6,116.    Elapsed: 0:01:16.\n",
      "  Batch   160  of  6,116.    Elapsed: 0:01:42.\n",
      "  Batch   200  of  6,116.    Elapsed: 0:02:07.\n",
      "  Batch   240  of  6,116.    Elapsed: 0:02:32.\n",
      "  Batch   280  of  6,116.    Elapsed: 0:02:58.\n",
      "  Batch   320  of  6,116.    Elapsed: 0:03:23.\n",
      "  Batch   360  of  6,116.    Elapsed: 0:03:49.\n",
      "  Batch   400  of  6,116.    Elapsed: 0:04:14.\n",
      "  Batch   440  of  6,116.    Elapsed: 0:04:39.\n",
      "  Batch   480  of  6,116.    Elapsed: 0:05:05.\n",
      "  Batch   520  of  6,116.    Elapsed: 0:05:30.\n",
      "  Batch   560  of  6,116.    Elapsed: 0:05:55.\n",
      "  Batch   600  of  6,116.    Elapsed: 0:06:21.\n",
      "  Batch   640  of  6,116.    Elapsed: 0:06:46.\n",
      "  Batch   680  of  6,116.    Elapsed: 0:07:12.\n",
      "  Batch   720  of  6,116.    Elapsed: 0:07:37.\n",
      "  Batch   760  of  6,116.    Elapsed: 0:08:02.\n",
      "  Batch   800  of  6,116.    Elapsed: 0:08:28.\n",
      "  Batch   840  of  6,116.    Elapsed: 0:08:53.\n",
      "  Batch   880  of  6,116.    Elapsed: 0:09:19.\n",
      "  Batch   920  of  6,116.    Elapsed: 0:09:44.\n",
      "  Batch   960  of  6,116.    Elapsed: 0:10:09.\n",
      "  Batch 1,000  of  6,116.    Elapsed: 0:10:35.\n",
      "  Batch 1,040  of  6,116.    Elapsed: 0:11:00.\n",
      "  Batch 1,080  of  6,116.    Elapsed: 0:11:26.\n",
      "  Batch 1,120  of  6,116.    Elapsed: 0:11:51.\n",
      "  Batch 1,160  of  6,116.    Elapsed: 0:12:16.\n",
      "  Batch 1,200  of  6,116.    Elapsed: 0:12:42.\n",
      "  Batch 1,240  of  6,116.    Elapsed: 0:13:07.\n",
      "  Batch 1,280  of  6,116.    Elapsed: 0:13:33.\n",
      "  Batch 1,320  of  6,116.    Elapsed: 0:13:58.\n",
      "  Batch 1,360  of  6,116.    Elapsed: 0:14:23.\n",
      "  Batch 1,400  of  6,116.    Elapsed: 0:14:49.\n",
      "  Batch 1,440  of  6,116.    Elapsed: 0:15:14.\n",
      "  Batch 1,480  of  6,116.    Elapsed: 0:15:39.\n",
      "  Batch 1,520  of  6,116.    Elapsed: 0:16:05.\n",
      "  Batch 1,560  of  6,116.    Elapsed: 0:16:30.\n",
      "  Batch 1,600  of  6,116.    Elapsed: 0:16:56.\n",
      "  Batch 1,640  of  6,116.    Elapsed: 0:17:21.\n",
      "  Batch 1,680  of  6,116.    Elapsed: 0:17:46.\n",
      "  Batch 1,720  of  6,116.    Elapsed: 0:18:12.\n",
      "  Batch 1,760  of  6,116.    Elapsed: 0:18:37.\n",
      "  Batch 1,800  of  6,116.    Elapsed: 0:19:03.\n",
      "  Batch 1,840  of  6,116.    Elapsed: 0:19:28.\n",
      "  Batch 1,880  of  6,116.    Elapsed: 0:19:53.\n",
      "  Batch 1,920  of  6,116.    Elapsed: 0:20:19.\n",
      "  Batch 1,960  of  6,116.    Elapsed: 0:20:44.\n",
      "  Batch 2,000  of  6,116.    Elapsed: 0:21:10.\n",
      "  Batch 2,040  of  6,116.    Elapsed: 0:21:35.\n",
      "  Batch 2,080  of  6,116.    Elapsed: 0:22:00.\n",
      "  Batch 2,120  of  6,116.    Elapsed: 0:22:26.\n",
      "  Batch 2,160  of  6,116.    Elapsed: 0:22:51.\n",
      "  Batch 2,200  of  6,116.    Elapsed: 0:23:17.\n",
      "  Batch 2,240  of  6,116.    Elapsed: 0:23:42.\n",
      "  Batch 2,280  of  6,116.    Elapsed: 0:24:07.\n",
      "  Batch 2,320  of  6,116.    Elapsed: 0:24:33.\n",
      "  Batch 2,360  of  6,116.    Elapsed: 0:24:58.\n",
      "  Batch 2,400  of  6,116.    Elapsed: 0:25:23.\n",
      "  Batch 2,440  of  6,116.    Elapsed: 0:25:49.\n",
      "  Batch 2,480  of  6,116.    Elapsed: 0:26:14.\n",
      "  Batch 2,520  of  6,116.    Elapsed: 0:26:40.\n",
      "  Batch 2,560  of  6,116.    Elapsed: 0:27:05.\n",
      "  Batch 2,600  of  6,116.    Elapsed: 0:27:30.\n",
      "  Batch 2,640  of  6,116.    Elapsed: 0:27:56.\n",
      "  Batch 2,680  of  6,116.    Elapsed: 0:28:21.\n",
      "  Batch 2,720  of  6,116.    Elapsed: 0:28:47.\n",
      "  Batch 2,760  of  6,116.    Elapsed: 0:29:12.\n",
      "  Batch 2,800  of  6,116.    Elapsed: 0:29:37.\n",
      "  Batch 2,840  of  6,116.    Elapsed: 0:30:03.\n",
      "  Batch 2,880  of  6,116.    Elapsed: 0:30:28.\n",
      "  Batch 2,920  of  6,116.    Elapsed: 0:30:54.\n",
      "  Batch 2,960  of  6,116.    Elapsed: 0:31:19.\n",
      "  Batch 3,000  of  6,116.    Elapsed: 0:31:44.\n",
      "  Batch 3,040  of  6,116.    Elapsed: 0:32:10.\n",
      "  Batch 3,080  of  6,116.    Elapsed: 0:32:35.\n",
      "  Batch 3,120  of  6,116.    Elapsed: 0:33:01.\n",
      "  Batch 3,160  of  6,116.    Elapsed: 0:33:26.\n",
      "  Batch 3,200  of  6,116.    Elapsed: 0:33:51.\n",
      "  Batch 3,240  of  6,116.    Elapsed: 0:34:17.\n",
      "  Batch 3,280  of  6,116.    Elapsed: 0:34:42.\n",
      "  Batch 3,320  of  6,116.    Elapsed: 0:35:07.\n",
      "  Batch 3,360  of  6,116.    Elapsed: 0:35:33.\n",
      "  Batch 3,400  of  6,116.    Elapsed: 0:35:58.\n",
      "  Batch 3,440  of  6,116.    Elapsed: 0:36:24.\n",
      "  Batch 3,480  of  6,116.    Elapsed: 0:36:49.\n",
      "  Batch 3,520  of  6,116.    Elapsed: 0:37:14.\n",
      "  Batch 3,560  of  6,116.    Elapsed: 0:37:40.\n",
      "  Batch 3,600  of  6,116.    Elapsed: 0:38:05.\n",
      "  Batch 3,640  of  6,116.    Elapsed: 0:38:31.\n",
      "  Batch 3,680  of  6,116.    Elapsed: 0:38:56.\n",
      "  Batch 3,720  of  6,116.    Elapsed: 0:39:21.\n",
      "  Batch 3,760  of  6,116.    Elapsed: 0:39:47.\n",
      "  Batch 3,800  of  6,116.    Elapsed: 0:40:12.\n",
      "  Batch 3,840  of  6,116.    Elapsed: 0:40:38.\n",
      "  Batch 3,880  of  6,116.    Elapsed: 0:41:03.\n",
      "  Batch 3,920  of  6,116.    Elapsed: 0:41:28.\n",
      "  Batch 3,960  of  6,116.    Elapsed: 0:41:54.\n",
      "  Batch 4,000  of  6,116.    Elapsed: 0:42:19.\n",
      "  Batch 4,040  of  6,116.    Elapsed: 0:42:44.\n",
      "  Batch 4,080  of  6,116.    Elapsed: 0:43:10.\n",
      "  Batch 4,120  of  6,116.    Elapsed: 0:43:35.\n",
      "  Batch 4,160  of  6,116.    Elapsed: 0:44:01.\n",
      "  Batch 4,200  of  6,116.    Elapsed: 0:44:26.\n",
      "  Batch 4,240  of  6,116.    Elapsed: 0:44:51.\n",
      "  Batch 4,280  of  6,116.    Elapsed: 0:45:17.\n",
      "  Batch 4,320  of  6,116.    Elapsed: 0:45:42.\n",
      "  Batch 4,360  of  6,116.    Elapsed: 0:46:08.\n",
      "  Batch 4,400  of  6,116.    Elapsed: 0:46:33.\n",
      "  Batch 4,440  of  6,116.    Elapsed: 0:46:58.\n",
      "  Batch 4,480  of  6,116.    Elapsed: 0:47:24.\n",
      "  Batch 4,520  of  6,116.    Elapsed: 0:47:49.\n",
      "  Batch 4,560  of  6,116.    Elapsed: 0:48:15.\n",
      "  Batch 4,600  of  6,116.    Elapsed: 0:48:40.\n",
      "  Batch 4,640  of  6,116.    Elapsed: 0:49:05.\n",
      "  Batch 4,680  of  6,116.    Elapsed: 0:49:31.\n",
      "  Batch 4,720  of  6,116.    Elapsed: 0:49:56.\n",
      "  Batch 4,760  of  6,116.    Elapsed: 0:50:22.\n",
      "  Batch 4,800  of  6,116.    Elapsed: 0:50:47.\n",
      "  Batch 4,840  of  6,116.    Elapsed: 0:51:12.\n",
      "  Batch 4,880  of  6,116.    Elapsed: 0:51:38.\n",
      "  Batch 4,920  of  6,116.    Elapsed: 0:52:03.\n",
      "  Batch 4,960  of  6,116.    Elapsed: 0:52:29.\n",
      "  Batch 5,000  of  6,116.    Elapsed: 0:52:54.\n",
      "  Batch 5,040  of  6,116.    Elapsed: 0:53:19.\n",
      "  Batch 5,080  of  6,116.    Elapsed: 0:53:45.\n",
      "  Batch 5,120  of  6,116.    Elapsed: 0:54:10.\n",
      "  Batch 5,160  of  6,116.    Elapsed: 0:54:35.\n",
      "  Batch 5,200  of  6,116.    Elapsed: 0:55:01.\n",
      "  Batch 5,240  of  6,116.    Elapsed: 0:55:26.\n",
      "  Batch 5,280  of  6,116.    Elapsed: 0:55:52.\n",
      "  Batch 5,320  of  6,116.    Elapsed: 0:56:17.\n",
      "  Batch 5,360  of  6,116.    Elapsed: 0:56:42.\n",
      "  Batch 5,400  of  6,116.    Elapsed: 0:57:08.\n",
      "  Batch 5,440  of  6,116.    Elapsed: 0:57:33.\n",
      "  Batch 5,480  of  6,116.    Elapsed: 0:57:59.\n",
      "  Batch 5,520  of  6,116.    Elapsed: 0:58:24.\n",
      "  Batch 5,560  of  6,116.    Elapsed: 0:58:49.\n",
      "  Batch 5,600  of  6,116.    Elapsed: 0:59:15.\n",
      "  Batch 5,640  of  6,116.    Elapsed: 0:59:40.\n",
      "  Batch 5,680  of  6,116.    Elapsed: 1:00:06.\n",
      "  Batch 5,720  of  6,116.    Elapsed: 1:00:31.\n",
      "  Batch 5,760  of  6,116.    Elapsed: 1:00:56.\n",
      "  Batch 5,800  of  6,116.    Elapsed: 1:01:22.\n",
      "  Batch 5,840  of  6,116.    Elapsed: 1:01:47.\n",
      "  Batch 5,880  of  6,116.    Elapsed: 1:02:13.\n",
      "  Batch 5,920  of  6,116.    Elapsed: 1:02:38.\n",
      "  Batch 5,960  of  6,116.    Elapsed: 1:03:03.\n",
      "  Batch 6,000  of  6,116.    Elapsed: 1:03:29.\n",
      "  Batch 6,040  of  6,116.    Elapsed: 1:03:54.\n",
      "  Batch 6,080  of  6,116.    Elapsed: 1:04:20.\n",
      "\n",
      "  Average training loss: 0.34\n",
      "  Training epcoh took: 1:04:42\n",
      "\n",
      "Running Validation...\n",
      "  Accuracy: 0.86\n",
      "  Validation Loss: 0.37\n",
      "  Validation took: 0:02:37\n",
      "\n",
      "Training complete!\n",
      "Total training took 2:14:41 (h:mm:ss)\n"
     ]
    }
   ],
   "source": [
    "import random\n",
    "import numpy as np\n",
    "\n",
    "torch.cuda.empty_cache()\n",
    "import gc\n",
    "gc.collect()\n",
    "torch.cuda.memory_summary(device=None, abbreviated=False)\n",
    "\n",
    "\n",
    "seed_val = 42\n",
    "\n",
    "random.seed(seed_val)\n",
    "np.random.seed(seed_val)\n",
    "torch.manual_seed(seed_val)\n",
    "torch.cuda.manual_seed_all(seed_val)\n",
    "\n",
    "training_stats = []\n",
    "\n",
    "\n",
    "total_t0 = time.time()\n",
    "\n",
    "# For each epoch...\n",
    "for epoch_i in range(0, epochs):\n",
    "    \n",
    "    # ========================================\n",
    "    #               Training\n",
    "    # ========================================\n",
    "    \n",
    "\n",
    "    print(\"\")\n",
    "    print('======== Epoch {:} / {:} ========'.format(epoch_i + 1, epochs))\n",
    "    print('Training...')\n",
    "\n",
    "    # Measure how long the training epoch takes.\n",
    "    t0 = time.time()\n",
    "\n",
    "    # Reset the total loss for this epoch.\n",
    "    total_train_loss = 0\n",
    "\n",
    "    model.train()\n",
    "\n",
    "    # For each batch of training data...\n",
    "    for step, batch in enumerate(train_dataloader):\n",
    "\n",
    "        # Progress update every 40 batches.\n",
    "        if step % 40 == 0 and not step == 0:\n",
    "            # Calculate elapsed time in minutes.\n",
    "            elapsed = format_time(time.time() - t0)\n",
    "            \n",
    "            # Report progress.\n",
    "            print('  Batch {:>5,}  of  {:>5,}.    Elapsed: {:}.'.format(step, len(train_dataloader), elapsed))\n",
    "\n",
    "        b_input_ids = batch[0].to(device)\n",
    "        b_input_mask = batch[1].to(device)\n",
    "        b_labels = batch[2].to(device)\n",
    "\n",
    "        model.zero_grad()        \n",
    "\n",
    "\n",
    "        output = model(b_input_ids, token_type_ids=None, attention_mask=b_input_mask, labels=b_labels)\n",
    "        loss = output.loss\n",
    "        logits = output.logits\n",
    "        total_train_loss += loss.item()\n",
    "\n",
    "        # Perform a backward pass to calculate the gradients.\n",
    "        loss.backward()\n",
    "\n",
    "        # Clip the norm of the gradients to 1.0.\n",
    "        # This is to help prevent the \"exploding gradients\" problem.\n",
    "        torch.nn.utils.clip_grad_norm_(model.parameters(), 1.0)\n",
    "\n",
    "        # Update parameters and take a step using the computed gradient.\n",
    "        # The optimizer dictates the \"update rule\"--how the parameters are\n",
    "        # modified based on their gradients, the learning rate, etc.\n",
    "        optimizer.step()\n",
    "\n",
    "        # Update the learning rate.\n",
    "        scheduler.step()\n",
    "\n",
    "    # Calculate the average loss over all of the batches.\n",
    "    avg_train_loss = total_train_loss / len(train_dataloader)            \n",
    "    \n",
    "    # Measure how long this epoch took.\n",
    "    training_time = format_time(time.time() - t0)\n",
    "\n",
    "    print(\"\")\n",
    "    print(\"  Average training loss: {0:.2f}\".format(avg_train_loss))\n",
    "    print(\"  Training epcoh took: {:}\".format(training_time))\n",
    "        \n",
    "\n",
    "\n",
    "    print(\"\")\n",
    "    print(\"Running Validation...\")\n",
    "\n",
    "    t0 = time.time()\n",
    "\n",
    "\n",
    "    model.eval()\n",
    "\n",
    "    # Tracking variables \n",
    "    total_eval_accuracy = 0\n",
    "    total_eval_loss = 0\n",
    "    nb_eval_steps = 0\n",
    "\n",
    "    # Evaluate data for one epoch\n",
    "    for batch in validation_dataloader:\n",
    "        \n",
    "        # Unpack this training batch from our dataloader. \n",
    "        #\n",
    "        # As we unpack the batch, we'll also copy each tensor to the GPU using \n",
    "        # the `to` method.\n",
    "        #\n",
    "        # `batch` contains three pytorch tensors:\n",
    "        #   [0]: input ids \n",
    "        #   [1]: attention masks\n",
    "        #   [2]: labels \n",
    "        b_input_ids = batch[0].to(device)\n",
    "        b_input_mask = batch[1].to(device)\n",
    "        b_labels = batch[2].to(device)\n",
    "        \n",
    "        # Tell pytorch not to bother with constructing the compute graph during\n",
    "        # the forward pass, since this is only needed for backprop (training).\n",
    "        with torch.no_grad():        \n",
    "\n",
    "\n",
    "            output = model(b_input_ids, token_type_ids=None, attention_mask=b_input_mask, labels=b_labels)\n",
    "            loss = output.loss\n",
    "            logits = output.logits\n",
    "            \n",
    "        # Accumulate the validation loss.\n",
    "        total_eval_loss += loss.item()\n",
    "\n",
    "        # Move logits and labels to CPU\n",
    "        logits = logits.detach().cpu().numpy()\n",
    "        label_ids = b_labels.to('cpu').numpy()\n",
    "\n",
    "        # Calculate the accuracy for this batch of test sentences, and\n",
    "        # accumulate it over all batches.\n",
    "        total_eval_accuracy += flat_accuracy(logits, label_ids)\n",
    "        \n",
    "\n",
    "    # Report the final accuracy for this validation run.\n",
    "    avg_val_accuracy = total_eval_accuracy / len(validation_dataloader)\n",
    "    print(\"  Accuracy: {0:.2f}\".format(avg_val_accuracy))\n",
    "\n",
    "    # Calculate the average loss over all of the batches.\n",
    "    avg_val_loss = total_eval_loss / len(validation_dataloader)\n",
    "    \n",
    "    # Measure how long the validation run took.\n",
    "    validation_time = format_time(time.time() - t0)\n",
    "    \n",
    "    print(\"  Validation Loss: {0:.2f}\".format(avg_val_loss))\n",
    "    print(\"  Validation took: {:}\".format(validation_time))\n",
    "\n",
    "    # Record all statistics from this epoch.\n",
    "    training_stats.append(\n",
    "        {\n",
    "            'epoch': epoch_i + 1,\n",
    "            'Training Loss': avg_train_loss,\n",
    "            'Valid. Loss': avg_val_loss,\n",
    "            'Valid. Accur.': avg_val_accuracy,\n",
    "            'Training Time': training_time,\n",
    "            'Validation Time': validation_time\n",
    "        }\n",
    "    )\n",
    "\n",
    "print(\"\")\n",
    "print(\"Training complete!\")\n",
    "\n",
    "print(\"Total training took {:} (h:mm:ss)\".format(format_time(time.time()-total_t0)))"
   ]
  },
  {
   "cell_type": "code",
   "execution_count": null,
   "metadata": {
    "colab": {
     "background_save": true
    },
    "id": "cDfI2Y3WYITS"
   },
   "outputs": [
    {
     "data": {
      "text/html": [
       "\n",
       "  <div id=\"df-49136c0d-1884-4fc4-ace0-8dd8f280af3e\">\n",
       "    <div class=\"colab-df-container\">\n",
       "      <div>\n",
       "<style scoped>\n",
       "    .dataframe tbody tr th:only-of-type {\n",
       "        vertical-align: middle;\n",
       "    }\n",
       "\n",
       "    .dataframe tbody tr th {\n",
       "        vertical-align: top;\n",
       "    }\n",
       "\n",
       "    .dataframe thead th {\n",
       "        text-align: right;\n",
       "    }\n",
       "</style>\n",
       "<table border=\"1\" class=\"dataframe\">\n",
       "  <thead>\n",
       "    <tr style=\"text-align: right;\">\n",
       "      <th></th>\n",
       "      <th>Training Loss</th>\n",
       "      <th>Valid. Loss</th>\n",
       "      <th>Valid. Accur.</th>\n",
       "      <th>Training Time</th>\n",
       "      <th>Validation Time</th>\n",
       "    </tr>\n",
       "    <tr>\n",
       "      <th>epoch</th>\n",
       "      <th></th>\n",
       "      <th></th>\n",
       "      <th></th>\n",
       "      <th></th>\n",
       "      <th></th>\n",
       "    </tr>\n",
       "  </thead>\n",
       "  <tbody>\n",
       "    <tr>\n",
       "      <th>1</th>\n",
       "      <td>0.37</td>\n",
       "      <td>0.37</td>\n",
       "      <td>0.86</td>\n",
       "      <td>1:04:45</td>\n",
       "      <td>0:02:37</td>\n",
       "    </tr>\n",
       "    <tr>\n",
       "      <th>2</th>\n",
       "      <td>0.34</td>\n",
       "      <td>0.37</td>\n",
       "      <td>0.86</td>\n",
       "      <td>1:04:42</td>\n",
       "      <td>0:02:37</td>\n",
       "    </tr>\n",
       "  </tbody>\n",
       "</table>\n",
       "</div>\n",
       "      <button class=\"colab-df-convert\" onclick=\"convertToInteractive('df-49136c0d-1884-4fc4-ace0-8dd8f280af3e')\"\n",
       "              title=\"Convert this dataframe to an interactive table.\"\n",
       "              style=\"display:none;\">\n",
       "        \n",
       "  <svg xmlns=\"http://www.w3.org/2000/svg\" height=\"24px\"viewBox=\"0 0 24 24\"\n",
       "       width=\"24px\">\n",
       "    <path d=\"M0 0h24v24H0V0z\" fill=\"none\"/>\n",
       "    <path d=\"M18.56 5.44l.94 2.06.94-2.06 2.06-.94-2.06-.94-.94-2.06-.94 2.06-2.06.94zm-11 1L8.5 8.5l.94-2.06 2.06-.94-2.06-.94L8.5 2.5l-.94 2.06-2.06.94zm10 10l.94 2.06.94-2.06 2.06-.94-2.06-.94-.94-2.06-.94 2.06-2.06.94z\"/><path d=\"M17.41 7.96l-1.37-1.37c-.4-.4-.92-.59-1.43-.59-.52 0-1.04.2-1.43.59L10.3 9.45l-7.72 7.72c-.78.78-.78 2.05 0 2.83L4 21.41c.39.39.9.59 1.41.59.51 0 1.02-.2 1.41-.59l7.78-7.78 2.81-2.81c.8-.78.8-2.07 0-2.86zM5.41 20L4 18.59l7.72-7.72 1.47 1.35L5.41 20z\"/>\n",
       "  </svg>\n",
       "      </button>\n",
       "      \n",
       "  <style>\n",
       "    .colab-df-container {\n",
       "      display:flex;\n",
       "      flex-wrap:wrap;\n",
       "      gap: 12px;\n",
       "    }\n",
       "\n",
       "    .colab-df-convert {\n",
       "      background-color: #E8F0FE;\n",
       "      border: none;\n",
       "      border-radius: 50%;\n",
       "      cursor: pointer;\n",
       "      display: none;\n",
       "      fill: #1967D2;\n",
       "      height: 32px;\n",
       "      padding: 0 0 0 0;\n",
       "      width: 32px;\n",
       "    }\n",
       "\n",
       "    .colab-df-convert:hover {\n",
       "      background-color: #E2EBFA;\n",
       "      box-shadow: 0px 1px 2px rgba(60, 64, 67, 0.3), 0px 1px 3px 1px rgba(60, 64, 67, 0.15);\n",
       "      fill: #174EA6;\n",
       "    }\n",
       "\n",
       "    [theme=dark] .colab-df-convert {\n",
       "      background-color: #3B4455;\n",
       "      fill: #D2E3FC;\n",
       "    }\n",
       "\n",
       "    [theme=dark] .colab-df-convert:hover {\n",
       "      background-color: #434B5C;\n",
       "      box-shadow: 0px 1px 3px 1px rgba(0, 0, 0, 0.15);\n",
       "      filter: drop-shadow(0px 1px 2px rgba(0, 0, 0, 0.3));\n",
       "      fill: #FFFFFF;\n",
       "    }\n",
       "  </style>\n",
       "\n",
       "      <script>\n",
       "        const buttonEl =\n",
       "          document.querySelector('#df-49136c0d-1884-4fc4-ace0-8dd8f280af3e button.colab-df-convert');\n",
       "        buttonEl.style.display =\n",
       "          google.colab.kernel.accessAllowed ? 'block' : 'none';\n",
       "\n",
       "        async function convertToInteractive(key) {\n",
       "          const element = document.querySelector('#df-49136c0d-1884-4fc4-ace0-8dd8f280af3e');\n",
       "          const dataTable =\n",
       "            await google.colab.kernel.invokeFunction('convertToInteractive',\n",
       "                                                     [key], {});\n",
       "          if (!dataTable) return;\n",
       "\n",
       "          const docLinkHtml = 'Like what you see? Visit the ' +\n",
       "            '<a target=\"_blank\" href=https://colab.research.google.com/notebooks/data_table.ipynb>data table notebook</a>'\n",
       "            + ' to learn more about interactive tables.';\n",
       "          element.innerHTML = '';\n",
       "          dataTable['output_type'] = 'display_data';\n",
       "          await google.colab.output.renderOutput(dataTable, element);\n",
       "          const docLink = document.createElement('div');\n",
       "          docLink.innerHTML = docLinkHtml;\n",
       "          element.appendChild(docLink);\n",
       "        }\n",
       "      </script>\n",
       "    </div>\n",
       "  </div>\n",
       "  "
      ],
      "text/plain": [
       "       Training Loss  Valid. Loss  Valid. Accur. Training Time Validation Time\n",
       "epoch                                                                         \n",
       "1               0.37         0.37           0.86       1:04:45         0:02:37\n",
       "2               0.34         0.37           0.86       1:04:42         0:02:37"
      ]
     },
     "execution_count": null,
     "metadata": {},
     "output_type": "execute_result"
    }
   ],
   "source": [
    "import pandas as pd\n",
    "\n",
    "pd.set_option('precision', 2)\n",
    "\n",
    "df_stats = pd.DataFrame(data=training_stats)\n",
    "\n",
    "df_stats = df_stats.set_index('epoch')\n",
    "\n",
    "df_stats"
   ]
  },
  {
   "cell_type": "code",
   "execution_count": null,
   "metadata": {
    "colab": {
     "background_save": true
    },
    "id": "eKOBTNCMYKfD"
   },
   "outputs": [
    {
     "name": "stderr",
     "output_type": "stream",
     "text": [
      "findfont: Font family ['Times New Roman'] not found. Falling back to DejaVu Sans.\n",
      "findfont: Font family ['Times New Roman'] not found. Falling back to DejaVu Sans.\n"
     ]
    },
    {
     "data": {
      "image/png": "[encoded data removed]",
      "text/plain": [
       "<Figure size 3000x2580 with 1 Axes>"
      ]
     },
     "metadata": {},
     "output_type": "display_data"
    }
   ],
   "source": [
    "import matplotlib.pyplot as plt\n",
    "% matplotlib inline\n",
    "\n",
    "import seaborn as sns\n",
    "plt.rcParams['figure.dpi'] = 600 \n",
    "plt.rcParams[\"font.family\"] = \"Times New Roman\"\n",
    "plt.rcParams['figure.figsize'] = (5, 4.3)\n",
    "\n",
    "\n",
    "plt.plot(df_stats['Training Loss'], 'b-o', label=\"Training\")\n",
    "plt.plot(df_stats['Valid. Loss'], 'g-o', label=\"Validation\")\n",
    "\n",
    "# Label the plot.\n",
    "plt.title(\"Training & Validation Loss\")\n",
    "plt.xlabel(\"Epoch\")\n",
    "plt.ylabel(\"Loss\")\n",
    "plt.legend()\n",
    "plt.xticks([1, 2, 3, 4])\n",
    "\n",
    "plt.savefig(result_path + 'train_val_loss.png')\n",
    "\n",
    "plt.show()"
   ]
  },
  {
   "cell_type": "code",
   "execution_count": null,
   "metadata": {
    "colab": {
     "background_save": true
    },
    "id": "uwkcb5NX5UBv"
   },
   "outputs": [],
   "source": [
    "\n",
    "import os\n",
    "\n",
    "\n",
    "output_dir = result_path + 'model_save/'\n",
    "\n",
    "\n",
    "if not os.path.exists(output_dir):\n",
    "    os.makedirs(output_dir)\n",
    "\n",
    "print(\"Saving model to %s\" % output_dir)\n",
    "\n",
    "\n",
    "model_to_save = model.module if hasattr(model, 'module') else model \n",
    "model_to_save.save_pretrained(output_dir)\n",
    "tokenizer.save_pretrained(output_dir)\n",
    "\n",
    "# Good practice: save your training arguments together with the trained model\n",
    "# torch.save(args, os.path.join(output_dir, 'training_args.bin'))\n",
    "del output_dir"
   ]
  },
  {
   "cell_type": "code",
   "execution_count": null,
   "metadata": {
    "colab": {
     "background_save": true
    },
    "id": "CxUEnhZjKiR5"
   },
   "outputs": [],
   "source": [
    "import torch.nn.functional as F\n",
    "\n",
    "def bert_predict(model, test_dataloader):\n",
    "    \"\"\"Perform a forward pass on the trained BERT model to predict probabilities\n",
    "    on the test set.\n",
    "    \"\"\"\n",
    "\n",
    "    model.eval()\n",
    "\n",
    "    all_logits = []\n",
    "    all_labels = []\n",
    "    all_patient_ids = []\n",
    "\n",
    "    # For each batch in our test set...\n",
    "    for batch in test_dataloader:\n",
    "        # Load batch to GPU\n",
    "        # b_input_ids, b_attn_mask = tuple(t.to(device) for t in batch)[:2]\n",
    "        b_input_ids = batch[0].to(device)\n",
    "        b_input_mask = batch[1].to(device)\n",
    "        b_labels = batch[2].to(device)\n",
    "        patient_ids = batch[3].to(device)\n",
    "        # Compute logits\n",
    "        with torch.no_grad():\n",
    "            # logits = model(b_input_ids, b_attn_mask)\n",
    "            output = model(b_input_ids, token_type_ids=None, attention_mask=b_input_mask, labels=b_labels)\n",
    "            loss = output.loss\n",
    "            logits = output.logits\n",
    "        all_logits.append(logits)\n",
    "        all_labels.append(b_labels)\n",
    "        all_patient_ids.append(patient_ids)\n",
    "\n",
    "    # Concatenate logits from each batch\n",
    "    all_logits = torch.cat(all_logits, dim=0)\n",
    "    all_labels = torch.cat(all_labels, dim=0)\n",
    "    all_patient_ids = torch.cat(all_patient_ids, dim=0)\n",
    "\n",
    "    # Apply softmax to calculate probabilities\n",
    "    probs = F.softmax(all_logits, dim=1).cpu().numpy()\n",
    "    all_labels = all_labels.cpu().numpy()\n",
    "    all_patient_ids = all_patient_ids.cpu().numpy()\n",
    "\n",
    "    # data_need\n",
    "    data_need = {}\n",
    "    data_need = {'probs':probs, 'all_labels':all_labels, 'all_patient_ids':all_patient_ids}\n",
    "\n",
    "    return data_need"
   ]
  },
  {
   "cell_type": "code",
   "execution_count": null,
   "metadata": {
    "id": "YFJI7pNCKmH2"
   },
   "outputs": [],
   "source": [
    "result_train, result_val, result_test, result_temp = {}, {}, {}, {} \n",
    "result_val = bert_predict(model, validation_dataloader)\n",
    "result_test = bert_predict(model, test_dataloader)\n",
    "result_temp = bert_predict(model, temp_dataloader)"
   ]
  },
  {
   "cell_type": "code",
   "execution_count": null,
   "metadata": {
    "id": "Hz6LyCRhtNX9"
   },
   "outputs": [],
   "source": [
    "result_test['probs'][:5,:]"
   ]
  },
  {
   "cell_type": "code",
   "execution_count": null,
   "metadata": {
    "id": "sCTJ8HuuhwI0"
   },
   "outputs": [],
   "source": [
    "import json\n",
    "\n",
    "result_all_save = {}\n",
    "result_all_save = {'train': {'probs': result_train['probs'].tolist(), 'all_labels': result_train['all_labels'].tolist(), \\\n",
    "                'all_patient_ids': result_train['all_patient_ids'].tolist()}, \\\n",
    "           'val': {'probs': result_val['probs'].tolist(), 'all_labels': result_val['all_labels'].tolist(), \\\n",
    "                'all_patient_ids': result_val['all_patient_ids'].tolist()}, \\\n",
    "           'test': {'probs': result_test['probs'].tolist(), 'all_labels': result_test['all_labels'].tolist(), \\\n",
    "                'all_patient_ids': result_test['all_patient_ids'].tolist()}, \\\n",
    "           'temp': {'probs': result_temp['probs'].tolist(), 'all_labels': result_temp['all_labels'].tolist(), \\\n",
    "                'all_patient_ids': result_temp['all_patient_ids'].tolist()}\n",
    "          }\n",
    "\n",
    "with open(result_path + 'text_all.json', 'w') as fp:\n",
    "  json.dump(result_all_save, fp)\n",
    "\n",
    "# with open(result_path + text_all.json', 'r') as fp:\n",
    "#     result_all_save = json.load(fp)"
   ]
  },
  {
   "cell_type": "code",
   "execution_count": null,
   "metadata": {
    "id": "xmMrt-mvLAnX"
   },
   "outputs": [],
   "source": [
    "from sklearn.metrics import accuracy_score, roc_curve, auc\n",
    "\n",
    "def evaluate_roc(probs, y_true):\n",
    "    \"\"\"\n",
    "    - Print AUC and accuracy on the test set\n",
    "    - Plot ROC\n",
    "    @params    probs (np.array): an array of predicted probabilities with shape (len(y_true), 2)\n",
    "    @params    y_true (np.array): an array of the true values with shape (len(y_true),)\n",
    "    \"\"\"\n",
    "    preds = probs[:, 1]\n",
    "    fpr, tpr, threshold = roc_curve(y_true, preds)\n",
    "    roc_auc = auc(fpr, tpr)\n",
    "    print(f'AUC: {roc_auc:.4f}')\n",
    "       \n",
    "    # Get accuracy over the test set\n",
    "    y_pred = np.where(preds >= 0.5, 1, 0)\n",
    "    accuracy = accuracy_score(y_true, y_pred)\n",
    "    print(f'Accuracy: {accuracy*100:.2f}%')\n",
    "    \n",
    "    # Plot ROC AUC\n",
    "    plt.title('Receiver Operating Characteristic')\n",
    "    plt.plot(fpr, tpr, 'b', label = 'AUC = %0.2f' % roc_auc)\n",
    "    plt.legend(loc = 'lower right')\n",
    "    plt.plot([0, 1], [0, 1],'r--')\n",
    "    plt.xlim([0, 1])\n",
    "    plt.ylim([0, 1])\n",
    "    plt.ylabel('True Positive Rate')\n",
    "    plt.xlabel('False Positive Rate')\n",
    "    plt.show()"
   ]
  },
  {
   "cell_type": "code",
   "execution_count": null,
   "metadata": {
    "id": "xjKZzmNRbqDa"
   },
   "outputs": [],
   "source": [
    "evaluate_roc(result_train['probs'], result_train['all_labels'])"
   ]
  },
  {
   "cell_type": "code",
   "execution_count": null,
   "metadata": {
    "id": "uwxunvMcbqZY"
   },
   "outputs": [],
   "source": [
    "evaluate_roc(result_val['probs'], result_val['all_labels'])"
   ]
  },
  {
   "cell_type": "code",
   "execution_count": null,
   "metadata": {
    "id": "1BMBVJm1K776"
   },
   "outputs": [],
   "source": [
    "evaluate_roc(result_test['probs'], result_test['all_labels'])"
   ]
  },
  {
   "cell_type": "code",
   "execution_count": null,
   "metadata": {
    "id": "PvdXaAZ0K8DU"
   },
   "outputs": [],
   "source": [
    "evaluate_roc(result_temp['probs'], result_temp['all_labels'])"
   ]
  },
  {
   "cell_type": "code",
   "execution_count": null,
   "metadata": {
    "id": "rj9gDFsm6WW4"
   },
   "outputs": [],
   "source": [
    "from sklearn.model_selection import train_test_split\n",
    "from sklearn.metrics import roc_curve, auc, precision_recall_curve, f1_score, accuracy_score\n",
    "from sklearn.metrics import confusion_matrix, average_precision_score\n",
    "from sklearn.metrics import brier_score_loss\n",
    "\n",
    "def model_performance_params(data, data_pred_proba, ts_use, ts_value):\n",
    "    \"\"\"\n",
    "    data: the truth label of target [array]\n",
    "    data_pred_proba: predict probability of target with one columns [array]\n",
    "    ts_use: 'True' or 'False' (if true, will use ts_value, else will not use ts_value) [Bool]\n",
    "    ts_value: float value (if ts_use = 'True', will use it - input the value needed, or not use it)\n",
    "\n",
    "    \"\"\"\n",
    "    fpr, tpr, thresholds_ROC = roc_curve(data, data_pred_proba)\n",
    "    precision, recall, thresholds = precision_recall_curve(data, data_pred_proba)\n",
    "    average_precision = average_precision_score(data, data_pred_proba)\n",
    "    brier_score = brier_score_loss(data, data_pred_proba, pos_label=1)\n",
    "    roc_auc = auc(fpr, tpr)\n",
    "\n",
    "    threshold_final = []\n",
    "    if ts_use == 'False':\n",
    "        optimal_idx = []\n",
    "        optimal_idx = np.argmax(tpr - fpr)\n",
    "        optimal_threshold = thresholds_ROC[optimal_idx]\n",
    "        sensitivity = tpr[optimal_idx]\n",
    "        specificity = 1 - fpr[optimal_idx]\n",
    "        data_pred = np.zeros(len(data_pred_proba))\n",
    "        data_pred[data_pred_proba >= optimal_threshold] = 1\n",
    "        threshold_final = optimal_threshold\n",
    "    else:\n",
    "        optimal_idx = []\n",
    "        optimal_idx = np.max(np.where(thresholds_ROC >= ts_value))\n",
    "        sensitivity = tpr[optimal_idx]\n",
    "        specificity = 1 - fpr[optimal_idx]\n",
    "        data_pred = np.zeros(len(data_pred_proba))\n",
    "        data_pred[data_pred_proba >= ts_value] = 1\n",
    "        threshold_final = ts_value\n",
    "\n",
    "    tn, fp, fn, tp = confusion_matrix(data, data_pred).ravel()\n",
    "    accuracy = accuracy_score(data, data_pred)\n",
    "    F1 = f1_score(data, data_pred)  # not consider the imbalance, using 'binary' 2tp/(2tp+fp+fn)\n",
    "    precision_c = tp/(tp+fp)\n",
    "\n",
    "    parameters = {'auc': roc_auc, 'sensitivity': sensitivity, 'specificity': specificity, 'accuracy': accuracy,\n",
    "                  'F1': F1, 'precision': precision_c, 'ap':average_precision, 'brier_score': brier_score, 'threshold': threshold_final}\n",
    "    roc_plot_data = {'fpr_data': fpr, 'tpr_data': tpr}\n",
    "    return parameters, roc_plot_data"
   ]
  },
  {
   "cell_type": "code",
   "execution_count": null,
   "metadata": {
    "id": "ygg9ngCVb9na"
   },
   "outputs": [],
   "source": [
    "\n",
    "\n",
    "result_train_db = pd.DataFrame()\n",
    "result_train_db[['probs_0','probs_1']] = result_train['probs']\n",
    "result_train_db['all_labels'] = result_train['all_labels']\n",
    "result_train_db['all_patient_ids'] = result_train['all_patient_ids']\n",
    "result_train_db = result_train_db.groupby('all_patient_ids').agg({'probs_0':'mean', 'probs_1':'mean', 'all_labels':'max'})\n",
    "result_train_db = result_train_db.reset_index(level=['all_patient_ids'])\n",
    "result_train_db['db_type'] = 'train'\n",
    "\n",
    "result_val_db = pd.DataFrame()\n",
    "result_val_db[['probs_0','probs_1']] = result_val['probs']\n",
    "result_val_db['all_labels'] = result_val['all_labels']\n",
    "result_val_db['all_patient_ids'] = result_val['all_patient_ids']\n",
    "result_val_db = result_val_db.groupby('all_patient_ids').agg({'probs_0':'mean', 'probs_1':'mean', 'all_labels':'max'})\n",
    "result_val_db = result_val_db.reset_index(level=['all_patient_ids'])\n",
    "result_val_db['db_type'] = 'val'\n",
    "\n",
    "result_test_db = pd.DataFrame()\n",
    "result_test_db[['probs_0','probs_1']] = result_test['probs']\n",
    "result_test_db['all_labels'] = result_test['all_labels']\n",
    "result_test_db['all_patient_ids'] = result_test['all_patient_ids']\n",
    "result_test_db = result_test_db.groupby('all_patient_ids').agg({'probs_0':'mean', 'probs_1':'mean', 'all_labels':'max'})\n",
    "result_test_db = result_test_db.reset_index(level=['all_patient_ids'])\n",
    "result_test_db['db_type'] = 'test'\n",
    "\n",
    "result_temp_db = pd.DataFrame()\n",
    "result_temp_db[['probs_0','probs_1']] = result_temp['probs']\n",
    "result_temp_db['all_labels'] = result_temp['all_labels']\n",
    "result_temp_db['all_patient_ids'] = result_temp['all_patient_ids']\n",
    "result_temp_db = result_temp_db.groupby('all_patient_ids').agg({'probs_0':'mean', 'probs_1':'mean', 'all_labels':'max'})\n",
    "result_temp_db = result_temp_db.reset_index(level=['all_patient_ids'])\n",
    "result_temp_db['db_type'] = 'temp'\n",
    "\n",
    "result_all_db = pd.DataFrame()\n",
    "result_all_db = pd.concat([result_train_db, result_val_db, result_test_db, result_temp_db], ignore_index=True)\n",
    "result_all_db.to_csv(result_path + 'text_all.csv', index=False)\n",
    "\n",
    "result_all_db.head(5)"
   ]
  },
  {
   "cell_type": "code",
   "execution_count": null,
   "metadata": {
    "id": "fhItdAnkcaZa"
   },
   "outputs": [],
   "source": [
    "# save performance metric\n",
    "result_train, result_val, result_test, result_temp = [], [], [], []\n",
    "para, roc_plot = model_performance_params(result_train_db['all_labels'], result_train_db['probs_1'], 'False', 0)\n",
    "result_train = [round(para['auc'],3), round(para['sensitivity'],3), round(para['specificity'],3), round(para['accuracy'],3),\n",
    "        round(para['F1'],3), round(para['precision'],3), round(para['ap'],3), \n",
    "        round(para['brier_score'],3), para['threshold'], 'train']\n",
    "\n",
    "para, roc_plot = model_performance_params(result_val_db['all_labels'], result_val_db['probs_1'], 'False', 0)\n",
    "result_val = [round(para['auc'],3), round(para['sensitivity'],3), round(para['specificity'],3), round(para['accuracy'],3),\n",
    "        round(para['F1'],3), round(para['precision'],3), round(para['ap'],3), \n",
    "        round(para['brier_score'],3), para['threshold'], 'val']\n",
    "\n",
    "para, roc_plot = model_performance_params(result_test_db['all_labels'], result_test_db['probs_1'], 'False', 0)\n",
    "result_test = [round(para['auc'],3), round(para['sensitivity'],3), round(para['specificity'],3), round(para['accuracy'],3),\n",
    "        round(para['F1'],3), round(para['precision'],3), round(para['ap'],3), \n",
    "        round(para['brier_score'],3), para['threshold'], 'test']\n",
    "\n",
    "para, roc_plot = model_performance_params(result_temp_db['all_labels'], result_temp_db['probs_1'], 'False', 0)\n",
    "result_temp = [round(para['auc'],3), round(para['sensitivity'],3), round(para['specificity'],3), round(para['accuracy'],3),\n",
    "        round(para['F1'],3), round(para['precision'],3), round(para['ap'],3), \n",
    "        round(para['brier_score'],3), para['threshold'], 'temp']\n",
    "\n",
    "result_all = pd.DataFrame()\n",
    "result_all = pd.DataFrame([result_train, result_val, result_test, result_temp], \\\n",
    "              columns=['auc', 'sensitivity', 'specificity', 'accuracy', 'F1', \\\n",
    "                  'precision', 'ap', 'brier_score', 'threshold', 'db_type']\n",
    "              )\n",
    "result_all.to_csv(result_path + 'text_metrics.csv', index=False)\n",
    "print(result_all)\n",
    "\n",
    "del result_train, result_val, result_test, result_temp"
   ]
  },
  {
   "cell_type": "code",
   "execution_count": null,
   "metadata": {
    "id": "PZ1Ci_NFgEBM"
   },
   "outputs": [],
   "source": []
  },
  {
   "cell_type": "markdown",
   "metadata": {
    "id": "aHu-eztqc8d3"
   },
   "source": [
    "# **Part2. Machine learning combining text and numeric data**"
   ]
  },
  {
   "cell_type": "markdown",
   "metadata": {
    "id": "JZJU4P00F4KP"
   },
   "source": [
    "## **1. Logistic regression model**"
   ]
  },
  {
   "cell_type": "code",
   "execution_count": null,
   "metadata": {
    "id": "UPC4M2Xa11Rt"
   },
   "outputs": [],
   "source": [
    "\n",
    "import pandas as pd\n",
    "from sklearn import preprocessing\n",
    "from sklearn.model_selection import train_test_split\n",
    "\n",
    "def diff_data_type(data_initial, needing_type, outcome_name):\n",
    "    # get different needing training and test data\n",
    "    #     1.  type1 -- fit to regression model : LR, SVM      #\n",
    "    if needing_type == 1:\n",
    "        data_type1 = pd.DataFrame()\n",
    "        X_type1, y_type1 = pd.DataFrame(), pd.DataFrame()\n",
    "\n",
    "        data_type1 = data_initial\n",
    "        names_dummies = ['activity_bed', 'activity_eva_flag', 'activity_sit', 'activity_stand', \n",
    "        'admission_type', 'bilirubin_max_flag', 'code_status', 'delirium_flag', 'delirium_eva_flag', \n",
    "        'dobutamine', 'dopamine', 'epinephrine', 'gender', 'norepinephrine', 'code_status_eva_flag',\n",
    "        'pao2fio2ratio_novent_flag', 'vent', 'albumin_min_flag', 'vasopressor',\n",
    "        'alp_max_flag', 'alt_max_flag', 'ast_max_flag', 'baseexcess_min_flag', 'fio2_max_flag',\n",
    "        'lactate_max_flag', 'lymphocytes_max_flag', 'lymphocytes_min_flag', 'magnesium_max_flag',\n",
    "        'neutrophils_min_flag', 'paco2_max_flag', 'pao2_min_flag', 'pao2fio2ratio_vent_flag', 'ptt_max_flag', 'nlr_flag']\n",
    "        # 'fall_risk', 'fall_risk_eva_flag',\n",
    "\n",
    "        for i in range(len(names_dummies)):\n",
    "            vars()['dummies_' + names_dummies[i]] = pd.get_dummies(data_type1[names_dummies[i]],\n",
    "                                                                   prefix=names_dummies[i])\n",
    "            \n",
    "            data_type1 = pd.concat([data_type1, vars()['dummies_' + names_dummies[i]]], axis=1)\n",
    "            del vars()['dummies_' + names_dummies[i]]\n",
    "        # data_type_new.drop(names_dummies, axis=1, inplace=True)\n",
    "        data_type1.drop(names_dummies, axis=1, inplace=True)\n",
    "        X_type1 = data_type1.drop([outcome_name, 'id'], axis=1)  # type1 features\n",
    "        X_type1 = X_type1.reindex(sorted(X_type1.columns), axis=1)  # sort features name\n",
    "        y_type1 = data_type1[[outcome_name, 'id']]  # type1 target\n",
    "        X_train, X_test_all, y_train, y_test_all = train_test_split(X_type1, y_type1, test_size=0.2, random_state=0, shuffle=True)\n",
    "        X_cal, X_test, y_cal, y_test = train_test_split(X_test_all, y_test_all, test_size=0.5, random_state=0, shuffle=True)\n",
    "        min_max_scaler = preprocessing.MinMaxScaler()\n",
    "        X_train = pd.DataFrame(min_max_scaler.fit_transform(X_train))\n",
    "        X_cal = pd.DataFrame(min_max_scaler.fit_transform(X_cal))\n",
    "        X_test = pd.DataFrame(min_max_scaler.fit_transform(X_test))\n",
    "        X_train.columns = X_type1.columns\n",
    "        X_cal.columns = X_type1.columns\n",
    "        X_test.columns = X_type1.columns\n",
    "\n",
    "        columns_name,X,y,data_need = [], pd.DataFrame(), pd.Series(), pd.DataFrame()\n",
    "        columns_name = X_train.columns.values.tolist()\n",
    "        X = X_train[columns_name].append(X_cal[columns_name]).append(X_test[columns_name]).reset_index(drop=True)\n",
    "        y = y_train.append(y_cal).append(y_test).reset_index(drop=True)\n",
    "        data_need = X\n",
    "        data_need[['label','id']] = y\n",
    "\n",
    "\n",
    "    else:\n",
    "        #      2.  type2 -- fit to tree model: Xgboost, RF, DF      #\n",
    "        data_type2 = pd.DataFrame()\n",
    "        X_type2, y_type2 = pd.DataFrame(), pd.DataFrame()\n",
    "        data_type2 = data_initial\n",
    "        X_type2 = data_type2.drop(outcome_name, axis=1)  # type1 features\n",
    "        X_type2 = X_type2.reindex(sorted(X_type2.columns), axis=1)  # sort features name\n",
    "        y_type2 = data_type2[outcome_name]\n",
    "        X_train, X_test_all, y_train, y_test_all = train_test_split(X_type2, y_type2, test_size=0.2, random_state=0, shuffle=True)\n",
    "        X_cal, X_test, y_cal, y_test = train_test_split(X_test_all, y_test_all, test_size=0.5, random_state=0, shuffle=True)\n",
    "\n",
    "        columns_name,X,y,data_need = [], pd.DataFrame(), pd.Series(), pd.DataFrame()\n",
    "        columns_name = X_train.columns.values.tolist()\n",
    "        X = X_train[columns_name].append(X_cal[columns_name]).append(X_test[columns_name]).reset_index(drop=True)\n",
    "        y = y_train.append(y_cal).append(y_test).reset_index(drop=True)\n",
    "        data_need = X\n",
    "        data_need['label'] = y\n",
    "    \n",
    "\n",
    "    return data_need"
   ]
  },
  {
   "cell_type": "code",
   "execution_count": null,
   "metadata": {
    "id": "GygiZFyeGrZL"
   },
   "outputs": [],
   "source": [
    "\n",
    "df_development, df_temporal, df_num, df_text = pd.DataFrame(), pd.DataFrame(), pd.DataFrame(), pd.DataFrame()\n",
    "\n",
    "df_development = pd.read_csv(path+'data/seq_'+str(para_all['seq_len'])+'/development_num_older.csv')\n",
    "df_temporal = pd.read_csv(path+'data/seq_'+str(para_all['seq_len'])+'/temporal_num_older.csv')\n",
    "df_num = df_development.append(df_temporal).reset_index(drop=True)\n",
    "df_num.drop(['first_careunit', 'ethnicity', 'anchor_year_group'], axis=1, inplace=True)\n",
    "id_info = pd.read_csv(result_path + 'id_info.csv') # id: [train, val, test, temp]\n",
    "\n",
    "result_all_db = pd.DataFrame()\n",
    "result_all_db = pd.read_csv(result_path + 'text_all.csv')\n",
    "\n",
    "result_train_db = result_all_db.loc[result_all_db['db_type'] == 'train'].reset_index(drop=True)\n",
    "result_val_db = result_all_db.loc[result_all_db['db_type'] == 'val'].reset_index(drop=True)\n",
    "result_test_db = result_all_db.loc[result_all_db['db_type'] == 'test'].reset_index(drop=True)\n",
    "result_temp_db = result_all_db.loc[result_all_db['db_type'] == 'temp'].reset_index(drop=True)\n",
    "\n",
    "df_text = result_train_db.append(result_val_db).append(result_test_db).append(result_temp_db).reset_index(drop=True)\n",
    "df_text = df_text[['all_patient_ids', 'probs_1', 'all_labels']]\n",
    "df_text = df_text.rename(columns={'all_patient_ids': 'id', 'probs_1': 'pre_adm_score', 'all_labels': 'label'})\n",
    "del result_all_db, df_development, df_temporal, result_train_db, result_val_db, result_test_db, result_temp_db\n",
    "\n",
    "# check\n",
    "print('all numeric data: ', df_num.shape)\n",
    "print('all text result data: ', df_text.shape)\n",
    "print('id info: ', id_info.shape)"
   ]
  },
  {
   "cell_type": "code",
   "execution_count": null,
   "metadata": {
    "id": "7yI2RMa2LxOI"
   },
   "outputs": [],
   "source": [
    "print(df_num.head(5))\n",
    "print(df_text.head(5))\n",
    "print(id_info.head(5))\n",
    "print(df_num.columns)"
   ]
  },
  {
   "cell_type": "code",
   "execution_count": null,
   "metadata": {
    "id": "rsGy72PlKeaR"
   },
   "outputs": [],
   "source": [
    "df_num_type1 = pd.DataFrame()\n",
    "df_num_type1 = diff_data_type(df_num, 1, 'label')\n",
    "df_num_type1['id'] = df_num_type1['id'].astype('int64')\n",
    "df_text['id'] = df_text['id'].astype('int64')\n",
    "df_num_type1 = df_num_type1.merge(df_text[['id', 'pre_adm_score']], how='left', on='id')\n",
    "df_num_type1.shape"
   ]
  },
  {
   "cell_type": "code",
   "execution_count": null,
   "metadata": {
    "id": "TgDHOQCJSoGQ"
   },
   "outputs": [],
   "source": [
    "train_num_data, val_num_data, test_num_data, temp_num_data = pd.DataFrame(), pd.DataFrame(), pd.DataFrame(), pd.DataFrame()\n",
    "train_num_data = df_num_type1[df_num_type1['id'].isin(list(id_info['train'].dropna(axis=0).astype('int64')))].reset_index(drop=True)\n",
    "val_num_data = df_num_type1[df_num_type1['id'].isin(list(id_info['val'].dropna(axis=0).astype('int64')))].reset_index(drop=True)\n",
    "test_num_data = df_num_type1[df_num_type1['id'].isin(list(id_info['test'].dropna(axis=0).astype('int64')))].reset_index(drop=True)\n",
    "temp_num_data = df_num_type1[df_num_type1['id'].isin(list(id_info['temp'].dropna(axis=0).astype('int64')))].reset_index(drop=True)\n",
    "print('train numeric data size: ', train_num_data.shape)\n",
    "print('val numeric data size: ', val_num_data.shape)\n",
    "print('test numeric data size: ', test_num_data.shape)\n",
    "print('temp numeric data size: ', temp_num_data.shape)"
   ]
  },
  {
   "cell_type": "code",
   "execution_count": null,
   "metadata": {
    "id": "H07ThShOYhU2"
   },
   "outputs": [],
   "source": [
    "# train_num_data.columns.values.tolist()"
   ]
  },
  {
   "cell_type": "code",
   "execution_count": null,
   "metadata": {
    "id": "IHjpul-e11cQ"
   },
   "outputs": [],
   "source": [
    "from sklearn.linear_model import LogisticRegression\n",
    "\n",
    "no_need_cols_name = ['id', 'sofa', 'oasis', 'saps', 'apsiii', 'label', 'pre_adm_score']\n",
    "\n",
    "predicted_LR = []\n",
    "probas_LR = []\n",
    "para_LR = {}\n",
    "roc_plot_LR = {}\n",
    "parameters = {}\n",
    "fpr_LR, tpr_LR, threshold_LR = [], [], []\n",
    "clf_LR_bs = LogisticRegression(multi_class=\"ovr\", penalty=\"l1\", class_weight=\"balanced\", solver=\"liblinear\")\n",
    "re_LR_bs = clf_LR_bs.fit(train_num_data.drop(no_need_cols_name,axis=1), train_num_data['label'])\n",
    "# re_LR_bs = CalibratedClassifierCV(re_LR_bs, method='isotonic', cv='prefit')\n",
    "# re_LR_bs.fit(X_cal_type1, y_cal_type1)"
   ]
  },
  {
   "cell_type": "code",
   "execution_count": null,
   "metadata": {
    "id": "-T_4CAaZZi0X"
   },
   "outputs": [],
   "source": [
    "print('LR using numeric data in the val set:\\n')\n",
    "predicted_LR = re_LR_bs.predict(val_num_data.drop(no_need_cols_name,axis=1))\n",
    "probas_LR = re_LR_bs.predict_proba(val_num_data.drop(no_need_cols_name,axis=1))\n",
    "para, roc_plot = model_performance_params(val_num_data['label'], probas_LR[:, 1], 'False', 0)\n",
    "result_val_num = [round(para['auc'],3), round(para['sensitivity'],3), round(para['specificity'],3), round(para['accuracy'],3),\n",
    "          round(para['F1'],3), round(para['precision'],3), round(para['ap'],3), \n",
    "          round(para['brier_score'],3), para['threshold'], 'val']\n",
    "print(result_val_num)\n",
    "\n",
    "print('LR using numeric data in the test set:\\n')\n",
    "predicted_LR = re_LR_bs.predict(test_num_data.drop(no_need_cols_name,axis=1))\n",
    "probas_LR = re_LR_bs.predict_proba(test_num_data.drop(no_need_cols_name,axis=1))\n",
    "para, roc_plot = model_performance_params(test_num_data['label'], probas_LR[:, 1], 'False', 0)\n",
    "result_test_num = [round(para['auc'],3), round(para['sensitivity'],3), round(para['specificity'],3), round(para['accuracy'],3),\n",
    "          round(para['F1'],3), round(para['precision'],3), round(para['ap'],3), \n",
    "          round(para['brier_score'],3), para['threshold'], 'test']\n",
    "print(result_test_num)\n",
    "\n",
    "print('LR using numeric data in the temporal set:\\n')\n",
    "predicted_LR = re_LR_bs.predict(temp_num_data.drop(no_need_cols_name,axis=1))\n",
    "probas_LR = re_LR_bs.predict_proba(temp_num_data.drop(no_need_cols_name,axis=1))\n",
    "para, roc_plot = model_performance_params(temp_num_data['label'], probas_LR[:, 1], 'False', 0)\n",
    "result_temp_num = [round(para['auc'],3), round(para['sensitivity'],3), round(para['specificity'],3), round(para['accuracy'],3),\n",
    "          round(para['F1'],3), round(para['precision'],3), round(para['ap'],3), \n",
    "          round(para['brier_score'],3), para['threshold'], 'temp']\n",
    "print(result_temp_num)\n",
    "\n",
    "result_all = pd.DataFrame()\n",
    "result_all = pd.DataFrame([result_val_num, result_test_num, result_temp_num], \\\n",
    "              columns=['auc', 'sensitivity', 'specificity', 'accuracy', 'F1', \\\n",
    "                  'precision', 'ap', 'brier_score', 'threshold', 'db_type']\n",
    "              )\n",
    "result_all.to_csv(result_path + 'num_metrics.csv', index=False)\n",
    "print(result_all)\n",
    "\n",
    "del result_val_num, result_test_num, result_temp_num"
   ]
  },
  {
   "cell_type": "markdown",
   "metadata": {
    "id": "kaYHb8fxkFaM"
   },
   "source": [
    "## **2. Adding text info**"
   ]
  },
  {
   "cell_type": "code",
   "execution_count": null,
   "metadata": {
    "id": "zhidZjqtkEbQ"
   },
   "outputs": [],
   "source": [
    "from sklearn.linear_model import LogisticRegression\n",
    "\n",
    "no_need_cols_name = ['id', 'sofa', 'oasis', 'saps', 'apsiii', 'label']\n",
    "\n",
    "predicted_LR = []\n",
    "probas_LR = []\n",
    "para_LR = {}\n",
    "roc_plot_LR = {}\n",
    "parameters = {}\n",
    "fpr_LR, tpr_LR, threshold_LR = [], [], []\n",
    "clf_LR_bs = LogisticRegression(multi_class=\"ovr\", penalty=\"l1\", class_weight=\"balanced\", solver=\"liblinear\")\n",
    "re_LR_bs = clf_LR_bs.fit(train_num_data.drop(no_need_cols_name,axis=1), train_num_data['label'])\n",
    "# re_LR_bs = CalibratedClassifierCV(re_LR_bs, method='isotonic', cv='prefit')\n",
    "# re_LR_bs.fit(X_cal_type1, y_cal_type1)\n",
    "\n",
    "print('LR using numeric data in the val set:\\n')\n",
    "predicted_LR = re_LR_bs.predict(val_num_data.drop(no_need_cols_name,axis=1))\n",
    "probas_LR = re_LR_bs.predict_proba(val_num_data.drop(no_need_cols_name,axis=1))\n",
    "para, roc_plot = model_performance_params(val_num_data['label'], probas_LR[:, 1], 'False', 0)\n",
    "result_val_num = [round(para['auc'],3), round(para['sensitivity'],3), round(para['specificity'],3), round(para['accuracy'],3),\n",
    "          round(para['F1'],3), round(para['precision'],3), round(para['ap'],3), \n",
    "          round(para['brier_score'],3), para['threshold'], 'val']\n",
    "print(result_val_num)\n",
    "\n",
    "print('LR using numeric data in the test set:\\n')\n",
    "predicted_LR = re_LR_bs.predict(test_num_data.drop(no_need_cols_name,axis=1))\n",
    "probas_LR = re_LR_bs.predict_proba(test_num_data.drop(no_need_cols_name,axis=1))\n",
    "para, roc_plot = model_performance_params(test_num_data['label'], probas_LR[:, 1], 'False', 0)\n",
    "result_test_num = [round(para['auc'],3), round(para['sensitivity'],3), round(para['specificity'],3), round(para['accuracy'],3),\n",
    "          round(para['F1'],3), round(para['precision'],3), round(para['ap'],3), \n",
    "          round(para['brier_score'],3), para['threshold'], 'test']\n",
    "print(result_test_num)\n",
    "\n",
    "print('LR using numeric data in the temporal set:\\n')\n",
    "predicted_LR = re_LR_bs.predict(temp_num_data.drop(no_need_cols_name,axis=1))\n",
    "probas_LR = re_LR_bs.predict_proba(temp_num_data.drop(no_need_cols_name,axis=1))\n",
    "para, roc_plot = model_performance_params(temp_num_data['label'], probas_LR[:, 1], 'False', 0)\n",
    "result_temp_num = [round(para['auc'],3), round(para['sensitivity'],3), round(para['specificity'],3), round(para['accuracy'],3),\n",
    "          round(para['F1'],3), round(para['precision'],3), round(para['ap'],3), \n",
    "          round(para['brier_score'],3), para['threshold'], 'temp']\n",
    "print(result_temp_num)\n",
    "\n",
    "result_all = pd.DataFrame()\n",
    "result_all = pd.DataFrame([result_val_num, result_test_num, result_temp_num], \\\n",
    "              columns=['auc', 'sensitivity', 'specificity', 'accuracy', 'F1', \\\n",
    "                  'precision', 'ap', 'brier_score', 'threshold', 'db_type']\n",
    "              )\n",
    "result_all.to_csv(result_path + 'text_num_metrics.csv', index=False)\n",
    "print(result_all)\n",
    "\n",
    "del result_val_num, result_test_num, result_temp_num"
   ]
  },
  {
   "cell_type": "markdown",
   "metadata": {
    "id": "kms-VLaMkxSa"
   },
   "source": [
    "## **3. acquire clinical scores**"
   ]
  },
  {
   "cell_type": "code",
   "execution_count": null,
   "metadata": {
    "id": "jeiAEvXbkErx"
   },
   "outputs": [],
   "source": [
    "result_all = pd.DataFrame()\n",
    "\n",
    "for score_name in ['sofa', 'oasis', 'saps', 'apsiii']:\n",
    "\n",
    "  result_val_num, result_test_num, result_temp_num = [], [], []\n",
    "\n",
    "  print('LR using numeric data in the val set:\\n')\n",
    "  para, roc_plot = model_performance_params(val_num_data['label'], val_num_data['apsiii'], 'False', 0)\n",
    "  result_val_num = [round(para['auc'],3), round(para['sensitivity'],3), round(para['specificity'],3), round(para['accuracy'],3),\n",
    "            round(para['F1'],3), round(para['precision'],3), round(para['ap'],3), \n",
    "            round(para['brier_score'],3), para['threshold'], 'val', score_name]\n",
    "  print(result_val_num)\n",
    "\n",
    "  print('LR using numeric data in the test set:\\n')\n",
    "  para, roc_plot = model_performance_params(test_num_data['label'], test_num_data['apsiii'], 'False', 0)\n",
    "  result_test_num = [round(para['auc'],3), round(para['sensitivity'],3), round(para['specificity'],3), round(para['accuracy'],3),\n",
    "            round(para['F1'],3), round(para['precision'],3), round(para['ap'],3), \n",
    "            round(para['brier_score'],3), para['threshold'], 'test', score_name]\n",
    "  print(result_test_num)\n",
    "\n",
    "  print('LR using numeric data in the temporal set:\\n')\n",
    "  para, roc_plot = model_performance_params(temp_num_data['label'], temp_num_data['apsiii'], 'False', 0)\n",
    "  result_temp_num = [round(para['auc'],3), round(para['sensitivity'],3), round(para['specificity'],3), round(para['accuracy'],3),\n",
    "            round(para['F1'],3), round(para['precision'],3), round(para['ap'],3), \n",
    "            round(para['brier_score'],3), para['threshold'], 'temp', score_name]\n",
    "  print(result_temp_num)\n",
    "  \n",
    "  result_all_each = pd.DataFrame()\n",
    "  result_all_each = pd.DataFrame([result_val_num, result_test_num, result_temp_num], \\\n",
    "                columns=['auc', 'sensitivity', 'specificity', 'accuracy', 'F1', \\\n",
    "                    'precision', 'ap', 'brier_score', 'threshold', 'db_type', 'score']\n",
    "                  )\n",
    "  result_all = result_all.append(result_all_each)\n",
    "\n",
    "result_all.to_csv(result_path + 'scores_metrics.csv', index=False)\n",
    "print(result_all)"
   ]
  },
  {
   "cell_type": "markdown",
   "metadata": {
    "id": "f_3vwgadmYCH"
   },
   "source": [
    "## **4. lasso L1 part of features performance**"
   ]
  },
  {
   "cell_type": "code",
   "execution_count": null,
   "metadata": {
    "id": "IpMw9VhknAfg"
   },
   "outputs": [],
   "source": [
    "from sklearn.linear_model import LogisticRegression\n",
    "\n",
    "no_need_cols_name = ['id', 'sofa', 'oasis', 'saps', 'apsiii', 'label', 'pre_adm_score']\n",
    "\n",
    "predicted_LR = []\n",
    "probas_LR = []\n",
    "para_LR = {}\n",
    "roc_plot_LR = {}\n",
    "parameters = {}\n",
    "fpr_LR, tpr_LR, threshold_LR = [], [], []\n",
    "clf_LR_bs = LogisticRegression(multi_class=\"ovr\", penalty=\"l1\", class_weight=\"balanced\", solver=\"liblinear\")\n",
    "re_LR_bs = clf_LR_bs.fit(train_num_data.drop(no_need_cols_name,axis=1), train_num_data['label'])"
   ]
  },
  {
   "cell_type": "code",
   "execution_count": null,
   "metadata": {
    "id": "wTUQAKAGmcTZ"
   },
   "outputs": [],
   "source": [
    "import math\n",
    "feature_names = train_num_data.drop(no_need_cols_name,axis=1).columns.values.tolist()\n",
    "feature_importance = pd.DataFrame(feature_names, columns = [\"feature\"])\n",
    "w = re_LR_bs.coef_[0]\n",
    "feature_importance[\"importance\"] = pow(math.e, w)\n",
    "feature_importance = feature_importance.sort_values(by = [\"importance\"], ascending=False)\n",
    "feature_importance.reset_index(drop=True, inplace=True)\n",
    "feature_importance.to_csv(result_path + 'num_l1_feature_ranking.csv', index=False)\n",
    "ax = feature_importance.loc[:15,].plot.barh(x='feature', y='importance')\n",
    "\n",
    "plt.savefig(result_path + 'num_l1_top15.png')\n",
    "\n",
    "plt.show()"
   ]
  },
  {
   "cell_type": "code",
   "execution_count": null,
   "metadata": {
    "id": "48hMMiQynZ4n"
   },
   "outputs": [],
   "source": [
    "list(feature_importance.loc[:6,'feature'])"
   ]
  },
  {
   "cell_type": "code",
   "execution_count": null,
   "metadata": {
    "id": "oRzdGe7Mne2B"
   },
   "outputs": [],
   "source": [
    "col_need = list(feature_importance.loc[:6,'feature']) + ['pre_adm_score']\n",
    "predicted_LR = []\n",
    "probas_LR = []\n",
    "para_LR = {}\n",
    "roc_plot_LR = {}\n",
    "parameters = {}\n",
    "fpr_LR, tpr_LR, threshold_LR = [], [], []\n",
    "clf_LR_bs = LogisticRegression(multi_class=\"ovr\", penalty=\"l1\", class_weight=\"balanced\", solver=\"liblinear\")\n",
    "re_LR_bs = clf_LR_bs.fit(train_num_data[col_need], train_num_data['label'])"
   ]
  },
  {
   "cell_type": "code",
   "execution_count": null,
   "metadata": {
    "id": "-6A6pFfWnLjS"
   },
   "outputs": [],
   "source": [
    "print('LR using numeric data in the val set:\\n')\n",
    "predicted_LR = re_LR_bs.predict(val_num_data[col_need])\n",
    "probas_LR = re_LR_bs.predict_proba(val_num_data[col_need])\n",
    "para, roc_plot = model_performance_params(val_num_data['label'], probas_LR[:, 1], 'False', 0)\n",
    "result_val_num = [round(para['auc'],3), round(para['sensitivity'],3), round(para['specificity'],3), round(para['accuracy'],3),\n",
    "          round(para['F1'],3), round(para['precision'],3), round(para['ap'],3), \n",
    "          round(para['brier_score'],3), para['threshold'], 'val']\n",
    "print(result_val_num)\n",
    "\n",
    "print('LR using numeric data in the test set:\\n')\n",
    "predicted_LR = re_LR_bs.predict(test_num_data[col_need])\n",
    "probas_LR = re_LR_bs.predict_proba(test_num_data[col_need])\n",
    "para, roc_plot = model_performance_params(test_num_data['label'], probas_LR[:, 1], 'False', 0)\n",
    "result_test_num = [round(para['auc'],3), round(para['sensitivity'],3), round(para['specificity'],3), round(para['accuracy'],3),\n",
    "          round(para['F1'],3), round(para['precision'],3), round(para['ap'],3), \n",
    "          round(para['brier_score'],3), para['threshold'], 'test']\n",
    "print(result_test_num)\n",
    "\n",
    "print('LR using numeric data in the temporal set:\\n')\n",
    "predicted_LR = re_LR_bs.predict(temp_num_data[col_need])\n",
    "probas_LR = re_LR_bs.predict_proba(temp_num_data[col_need])\n",
    "para, roc_plot = model_performance_params(temp_num_data['label'], probas_LR[:, 1], 'False', 0)\n",
    "result_temp_num = [round(para['auc'],3), round(para['sensitivity'],3), round(para['specificity'],3), round(para['accuracy'],3),\n",
    "          round(para['F1'],3), round(para['precision'],3), round(para['ap'],3), \n",
    "          round(para['brier_score'],3), para['threshold'], 'temp']\n",
    "print(result_temp_num)\n",
    "\n",
    "result_all = pd.DataFrame()\n",
    "result_all = pd.DataFrame([result_val_num, result_test_num, result_temp_num], \\\n",
    "              columns=['auc', 'sensitivity', 'specificity', 'accuracy', 'F1', \\\n",
    "                  'precision', 'ap', 'brier_score', 'threshold', 'db_type']\n",
    "              )\n",
    "result_all.to_csv(result_path + 'text_num_part_metrics.csv', index=False)\n",
    "print(result_all)\n",
    "\n",
    "del result_val_num, result_test_num, result_temp_num"
   ]
  },
  {
   "cell_type": "markdown",
   "metadata": {
    "id": "Kou_T0_R83Co"
   },
   "source": []
  }
 ],
 "metadata": {
  "accelerator": "GPU",
  "colab": {
   "authorship_tag": "ABX9TyOzVf6MjifgCuTFbQ5h3mAX",
   "collapsed_sections": [],
   "machine_shape": "hm",
   "name": "older_nlp_mortality.ipynb",
   "version": ""
  },
  "kernelspec": {
   "display_name": "Python 3",
   "name": "python3"
  },
  "language_info": {
   "name": "python"
  }
 },
 "nbformat": 4,
 "nbformat_minor": 0
}
